{
 "cells": [
  {
   "cell_type": "code",
   "execution_count": 4,
   "id": "66166b60",
   "metadata": {
    "scrolled": true
   },
   "outputs": [
    {
     "name": "stderr",
     "output_type": "stream",
     "text": [
      "[nltk_data] Downloading package averaged_perceptron_tagger to\n",
      "[nltk_data]     C:\\Users\\gauth\\AppData\\Roaming\\nltk_data...\n",
      "[nltk_data]   Package averaged_perceptron_tagger is already up-to-\n",
      "[nltk_data]       date!\n"
     ]
    }
   ],
   "source": [
    "%run python_helper.py\n",
    "%matplotlib inline "
   ]
  },
  {
   "cell_type": "code",
   "execution_count": 5,
   "id": "5d987fed",
   "metadata": {},
   "outputs": [],
   "source": [
    "input_str = open(\"fake_or_real_news_training.csv\", encoding= 'utf-8')"
   ]
  },
  {
   "cell_type": "code",
   "execution_count": 6,
   "id": "d1fae32e",
   "metadata": {},
   "outputs": [],
   "source": [
    "noNewLines = re.sub(\"\\n\", \"\", input_str.read())"
   ]
  },
  {
   "cell_type": "code",
   "execution_count": 7,
   "id": "da23c70d",
   "metadata": {},
   "outputs": [],
   "source": [
    "noNewLines = re.sub(\",FAKE[,]+\", \",FAKE,,\\n\", noNewLines)"
   ]
  },
  {
   "cell_type": "code",
   "execution_count": 8,
   "id": "d6e0f37d",
   "metadata": {},
   "outputs": [],
   "source": [
    "noNewLines = re.sub(\",REAL[,]+\", \",REAL,,\\n\", noNewLines)"
   ]
  },
  {
   "cell_type": "code",
   "execution_count": 9,
   "id": "7f5609b2",
   "metadata": {},
   "outputs": [],
   "source": [
    "lines = noNewLines.split('\\n')"
   ]
  },
  {
   "cell_type": "code",
   "execution_count": 10,
   "id": "58e6e7ee",
   "metadata": {},
   "outputs": [],
   "source": [
    "def removeComma(g):\n",
    "      t = g.groups()\n",
    "      t = [t[0], t[1].replace(',', ' |'), t[2], t[3]]\n",
    "      return \"\".join(t)\n",
    "\n",
    "betweenQuotes = lambda line: re.sub(r'(.*,\")(.*)(\",)(.*)', lambda x: removeComma(x), line)\n",
    "\n",
    "secondCol = lambda line: re.sub(r'^([0-9]+,)(.*,.*)(,\\\")(.*)$', lambda x: removeComma(x), line, 1)\n",
    "\n",
    "\n",
    "lines = [betweenQuotes(l) for l in lines]\n",
    "lines = [secondCol(l) for l in lines]\n",
    "\n",
    "finalString = '\\n'.join(lines)\n",
    "\n"
   ]
  },
  {
   "cell_type": "code",
   "execution_count": 12,
   "id": "4ee6c601",
   "metadata": {},
   "outputs": [],
   "source": [
    "file = open('fake_or_real_news_training_CLEANED.csv', 'w',encoding= 'utf-8')\n",
    "file.write(finalString)\n",
    "file.close()"
   ]
  },
  {
   "cell_type": "code",
   "execution_count": 11,
   "id": "50014db7",
   "metadata": {},
   "outputs": [],
   "source": [
    "train = pd.read_csv(\"fake_or_real_news_training_CLEANED.csv\")\n",
    "test = pd.read_csv(\"fake_or_real_news_test.csv\")"
   ]
  },
  {
   "cell_type": "code",
   "execution_count": 12,
   "id": "70b3ad84",
   "metadata": {},
   "outputs": [
    {
     "data": {
      "text/plain": [
       "3997"
      ]
     },
     "execution_count": 12,
     "metadata": {},
     "output_type": "execute_result"
    }
   ],
   "source": [
    "len(train)"
   ]
  },
  {
   "cell_type": "code",
   "execution_count": 13,
   "id": "68f96591",
   "metadata": {},
   "outputs": [
    {
     "data": {
      "text/plain": [
       "2321"
      ]
     },
     "execution_count": 13,
     "metadata": {},
     "output_type": "execute_result"
    }
   ],
   "source": [
    "len(test)"
   ]
  },
  {
   "cell_type": "code",
   "execution_count": 14,
   "id": "49b451bb",
   "metadata": {},
   "outputs": [
    {
     "data": {
      "text/html": [
       "<div>\n",
       "<style scoped>\n",
       "    .dataframe tbody tr th:only-of-type {\n",
       "        vertical-align: middle;\n",
       "    }\n",
       "\n",
       "    .dataframe tbody tr th {\n",
       "        vertical-align: top;\n",
       "    }\n",
       "\n",
       "    .dataframe thead th {\n",
       "        text-align: right;\n",
       "    }\n",
       "</style>\n",
       "<table border=\"1\" class=\"dataframe\">\n",
       "  <thead>\n",
       "    <tr style=\"text-align: right;\">\n",
       "      <th></th>\n",
       "      <th>ID</th>\n",
       "      <th>title</th>\n",
       "      <th>text</th>\n",
       "      <th>label</th>\n",
       "      <th>X1</th>\n",
       "      <th>X2</th>\n",
       "    </tr>\n",
       "  </thead>\n",
       "  <tbody>\n",
       "    <tr>\n",
       "      <th>0</th>\n",
       "      <td>8476</td>\n",
       "      <td>You Can Smell Hillary’s Fear</td>\n",
       "      <td>Daniel Greenfield | a Shillman Journalism Fell...</td>\n",
       "      <td>FAKE</td>\n",
       "      <td>NaN</td>\n",
       "      <td>NaN</td>\n",
       "    </tr>\n",
       "    <tr>\n",
       "      <th>1</th>\n",
       "      <td>10294</td>\n",
       "      <td>Watch The Exact Moment Paul Ryan Committed Pol...</td>\n",
       "      <td>Google Pinterest Digg Linkedin Reddit Stumbleu...</td>\n",
       "      <td>FAKE</td>\n",
       "      <td>NaN</td>\n",
       "      <td>NaN</td>\n",
       "    </tr>\n",
       "    <tr>\n",
       "      <th>2</th>\n",
       "      <td>3608</td>\n",
       "      <td>Kerry to go to Paris in gesture of sympathy</td>\n",
       "      <td>U.S. Secretary of State John F. Kerry said Mon...</td>\n",
       "      <td>REAL</td>\n",
       "      <td>NaN</td>\n",
       "      <td>NaN</td>\n",
       "    </tr>\n",
       "    <tr>\n",
       "      <th>3</th>\n",
       "      <td>10142</td>\n",
       "      <td>Bernie supporters on Twitter erupt in anger ag...</td>\n",
       "      <td>— Kaydee King (@KaydeeKing) November 9 | 2016 ...</td>\n",
       "      <td>FAKE</td>\n",
       "      <td>NaN</td>\n",
       "      <td>NaN</td>\n",
       "    </tr>\n",
       "    <tr>\n",
       "      <th>4</th>\n",
       "      <td>875</td>\n",
       "      <td>The Battle of New York: Why This Primary Matte...</td>\n",
       "      <td>Cruz promised his supporters. \"\"We're beating...</td>\n",
       "      <td>REAL</td>\n",
       "      <td>NaN</td>\n",
       "      <td>NaN</td>\n",
       "    </tr>\n",
       "  </tbody>\n",
       "</table>\n",
       "</div>"
      ],
      "text/plain": [
       "      ID                                              title  \\\n",
       "0   8476                       You Can Smell Hillary’s Fear   \n",
       "1  10294  Watch The Exact Moment Paul Ryan Committed Pol...   \n",
       "2   3608        Kerry to go to Paris in gesture of sympathy   \n",
       "3  10142  Bernie supporters on Twitter erupt in anger ag...   \n",
       "4    875  The Battle of New York: Why This Primary Matte...   \n",
       "\n",
       "                                                text label  X1  X2  \n",
       "0  Daniel Greenfield | a Shillman Journalism Fell...  FAKE NaN NaN  \n",
       "1  Google Pinterest Digg Linkedin Reddit Stumbleu...  FAKE NaN NaN  \n",
       "2  U.S. Secretary of State John F. Kerry said Mon...  REAL NaN NaN  \n",
       "3  — Kaydee King (@KaydeeKing) November 9 | 2016 ...  FAKE NaN NaN  \n",
       "4   Cruz promised his supporters. \"\"We're beating...  REAL NaN NaN  "
      ]
     },
     "execution_count": 14,
     "metadata": {},
     "output_type": "execute_result"
    }
   ],
   "source": [
    "train.head()"
   ]
  },
  {
   "cell_type": "code",
   "execution_count": 15,
   "id": "2c9c6fca",
   "metadata": {},
   "outputs": [],
   "source": [
    "train = train.drop(['X1', 'X2'], axis=1)"
   ]
  },
  {
   "cell_type": "code",
   "execution_count": 16,
   "id": "23c7df02",
   "metadata": {},
   "outputs": [
    {
     "data": {
      "image/png": "[encoded data removed]",
      "text/plain": [
       "<Figure size 432x288 with 1 Axes>"
      ]
     },
     "metadata": {
      "needs_background": "light"
     },
     "output_type": "display_data"
    }
   ],
   "source": [
    "from collections import Counter\n",
    "ax = sns.countplot(train.label, order=[x for x, count in sorted(Counter(train.label).items(), key=lambda x: -x[1])])\n",
    "\n",
    "\n",
    "for p in ax.patches:\n",
    "    height = p.get_height()\n",
    "    ax.text(p.get_x()+p.get_width()/2.,\n",
    "            height + 3,\n",
    "            '{:1.2f}%'.format(height/len(train)*100),\n",
    "            ha=\"center\") \n",
    "ax.set_title(\"Test dataset target\")\n",
    "show()"
   ]
  },
  {
   "cell_type": "code",
   "execution_count": 17,
   "id": "247dbb70",
   "metadata": {},
   "outputs": [
    {
     "data": {
      "text/html": [
       "<div>\n",
       "<style scoped>\n",
       "    .dataframe tbody tr th:only-of-type {\n",
       "        vertical-align: middle;\n",
       "    }\n",
       "\n",
       "    .dataframe tbody tr th {\n",
       "        vertical-align: top;\n",
       "    }\n",
       "\n",
       "    .dataframe thead th {\n",
       "        text-align: right;\n",
       "    }\n",
       "</style>\n",
       "<table border=\"1\" class=\"dataframe\">\n",
       "  <thead>\n",
       "    <tr style=\"text-align: right;\">\n",
       "      <th></th>\n",
       "      <th>ID</th>\n",
       "      <th>title</th>\n",
       "      <th>text</th>\n",
       "    </tr>\n",
       "  </thead>\n",
       "  <tbody>\n",
       "    <tr>\n",
       "      <th>0</th>\n",
       "      <td>10498</td>\n",
       "      <td>September New Homes Sales Rise——-Back To 1992 ...</td>\n",
       "      <td>September New Homes Sales Rise Back To 1992 Le...</td>\n",
       "    </tr>\n",
       "    <tr>\n",
       "      <th>1</th>\n",
       "      <td>2439</td>\n",
       "      <td>Why The Obamacare Doomsday Cult Can't Admit It...</td>\n",
       "      <td>But when Congress debated and passed the Patie...</td>\n",
       "    </tr>\n",
       "    <tr>\n",
       "      <th>2</th>\n",
       "      <td>864</td>\n",
       "      <td>Sanders, Cruz resist pressure after NY losses,...</td>\n",
       "      <td>The Bernie Sanders and Ted Cruz campaigns vowe...</td>\n",
       "    </tr>\n",
       "    <tr>\n",
       "      <th>3</th>\n",
       "      <td>4128</td>\n",
       "      <td>Surviving escaped prisoner likely fatigued and...</td>\n",
       "      <td>Police searching for the second of two escaped...</td>\n",
       "    </tr>\n",
       "    <tr>\n",
       "      <th>4</th>\n",
       "      <td>662</td>\n",
       "      <td>Clinton and Sanders neck and neck in Californi...</td>\n",
       "      <td>No matter who wins California's 475 delegates ...</td>\n",
       "    </tr>\n",
       "  </tbody>\n",
       "</table>\n",
       "</div>"
      ],
      "text/plain": [
       "      ID                                              title  \\\n",
       "0  10498  September New Homes Sales Rise——-Back To 1992 ...   \n",
       "1   2439  Why The Obamacare Doomsday Cult Can't Admit It...   \n",
       "2    864  Sanders, Cruz resist pressure after NY losses,...   \n",
       "3   4128  Surviving escaped prisoner likely fatigued and...   \n",
       "4    662  Clinton and Sanders neck and neck in Californi...   \n",
       "\n",
       "                                                text  \n",
       "0  September New Homes Sales Rise Back To 1992 Le...  \n",
       "1  But when Congress debated and passed the Patie...  \n",
       "2  The Bernie Sanders and Ted Cruz campaigns vowe...  \n",
       "3  Police searching for the second of two escaped...  \n",
       "4  No matter who wins California's 475 delegates ...  "
      ]
     },
     "execution_count": 17,
     "metadata": {},
     "output_type": "execute_result"
    }
   ],
   "source": [
    "test.head()"
   ]
  },
  {
   "cell_type": "code",
   "execution_count": 18,
   "id": "600f096a",
   "metadata": {},
   "outputs": [],
   "source": [
    "test['label'] = None \n",
    "\n",
    "df = pd.concat([train, test])"
   ]
  },
  {
   "cell_type": "code",
   "execution_count": 19,
   "id": "c9567237",
   "metadata": {},
   "outputs": [
    {
     "data": {
      "text/plain": [
       "6318"
      ]
     },
     "execution_count": 19,
     "metadata": {},
     "output_type": "execute_result"
    }
   ],
   "source": [
    "len(df)"
   ]
  },
  {
   "cell_type": "code",
   "execution_count": 20,
   "id": "b26ac53f",
   "metadata": {},
   "outputs": [
    {
     "data": {
      "text/html": [
       "<div>\n",
       "<style scoped>\n",
       "    .dataframe tbody tr th:only-of-type {\n",
       "        vertical-align: middle;\n",
       "    }\n",
       "\n",
       "    .dataframe tbody tr th {\n",
       "        vertical-align: top;\n",
       "    }\n",
       "\n",
       "    .dataframe thead th {\n",
       "        text-align: right;\n",
       "    }\n",
       "</style>\n",
       "<table border=\"1\" class=\"dataframe\">\n",
       "  <thead>\n",
       "    <tr style=\"text-align: right;\">\n",
       "      <th></th>\n",
       "      <th>ID</th>\n",
       "      <th>title</th>\n",
       "      <th>text</th>\n",
       "      <th>label</th>\n",
       "    </tr>\n",
       "  </thead>\n",
       "  <tbody>\n",
       "    <tr>\n",
       "      <th>2316</th>\n",
       "      <td>4490</td>\n",
       "      <td>State Department says it can't find emails fro...</td>\n",
       "      <td>The State Department told the Republican Natio...</td>\n",
       "      <td>None</td>\n",
       "    </tr>\n",
       "    <tr>\n",
       "      <th>2317</th>\n",
       "      <td>8062</td>\n",
       "      <td>The ‘P’ in PBS Should Stand for ‘Plutocratic’ ...</td>\n",
       "      <td>The ‘P’ in PBS Should Stand for ‘Plutocratic’ ...</td>\n",
       "      <td>None</td>\n",
       "    </tr>\n",
       "    <tr>\n",
       "      <th>2318</th>\n",
       "      <td>8622</td>\n",
       "      <td>Anti-Trump Protesters Are Tools of the Oligarc...</td>\n",
       "      <td>Anti-Trump Protesters Are Tools of the Oligar...</td>\n",
       "      <td>None</td>\n",
       "    </tr>\n",
       "    <tr>\n",
       "      <th>2319</th>\n",
       "      <td>4021</td>\n",
       "      <td>In Ethiopia, Obama seeks progress on peace, se...</td>\n",
       "      <td>ADDIS ABABA, Ethiopia —President Obama convene...</td>\n",
       "      <td>None</td>\n",
       "    </tr>\n",
       "    <tr>\n",
       "      <th>2320</th>\n",
       "      <td>4330</td>\n",
       "      <td>Jeb Bush Is Suddenly Attacking Trump. Here's W...</td>\n",
       "      <td>Jeb Bush Is Suddenly Attacking Trump. Here's W...</td>\n",
       "      <td>None</td>\n",
       "    </tr>\n",
       "  </tbody>\n",
       "</table>\n",
       "</div>"
      ],
      "text/plain": [
       "        ID                                              title  \\\n",
       "2316  4490  State Department says it can't find emails fro...   \n",
       "2317  8062  The ‘P’ in PBS Should Stand for ‘Plutocratic’ ...   \n",
       "2318  8622  Anti-Trump Protesters Are Tools of the Oligarc...   \n",
       "2319  4021  In Ethiopia, Obama seeks progress on peace, se...   \n",
       "2320  4330  Jeb Bush Is Suddenly Attacking Trump. Here's W...   \n",
       "\n",
       "                                                   text label  \n",
       "2316  The State Department told the Republican Natio...  None  \n",
       "2317  The ‘P’ in PBS Should Stand for ‘Plutocratic’ ...  None  \n",
       "2318   Anti-Trump Protesters Are Tools of the Oligar...  None  \n",
       "2319  ADDIS ABABA, Ethiopia —President Obama convene...  None  \n",
       "2320  Jeb Bush Is Suddenly Attacking Trump. Here's W...  None  "
      ]
     },
     "execution_count": 20,
     "metadata": {},
     "output_type": "execute_result"
    }
   ],
   "source": [
    "df.tail()"
   ]
  },
  {
   "cell_type": "code",
   "execution_count": 21,
   "id": "cec35773",
   "metadata": {},
   "outputs": [
    {
     "data": {
      "text/html": [
       "<div>\n",
       "<style scoped>\n",
       "    .dataframe tbody tr th:only-of-type {\n",
       "        vertical-align: middle;\n",
       "    }\n",
       "\n",
       "    .dataframe tbody tr th {\n",
       "        vertical-align: top;\n",
       "    }\n",
       "\n",
       "    .dataframe thead th {\n",
       "        text-align: right;\n",
       "    }\n",
       "</style>\n",
       "<table border=\"1\" class=\"dataframe\">\n",
       "  <thead>\n",
       "    <tr style=\"text-align: right;\">\n",
       "      <th></th>\n",
       "      <th>ID</th>\n",
       "      <th>title</th>\n",
       "      <th>text</th>\n",
       "      <th>label</th>\n",
       "      <th>title_and_text</th>\n",
       "    </tr>\n",
       "  </thead>\n",
       "  <tbody>\n",
       "    <tr>\n",
       "      <th>2316</th>\n",
       "      <td>4490</td>\n",
       "      <td>State Department says it can't find emails fro...</td>\n",
       "      <td>The State Department told the Republican Natio...</td>\n",
       "      <td>None</td>\n",
       "      <td>State Department says it can't find emails fro...</td>\n",
       "    </tr>\n",
       "    <tr>\n",
       "      <th>2317</th>\n",
       "      <td>8062</td>\n",
       "      <td>The ‘P’ in PBS Should Stand for ‘Plutocratic’ ...</td>\n",
       "      <td>The ‘P’ in PBS Should Stand for ‘Plutocratic’ ...</td>\n",
       "      <td>None</td>\n",
       "      <td>The ‘P’ in PBS Should Stand for ‘Plutocratic’ ...</td>\n",
       "    </tr>\n",
       "    <tr>\n",
       "      <th>2318</th>\n",
       "      <td>8622</td>\n",
       "      <td>Anti-Trump Protesters Are Tools of the Oligarc...</td>\n",
       "      <td>Anti-Trump Protesters Are Tools of the Oligar...</td>\n",
       "      <td>None</td>\n",
       "      <td>Anti-Trump Protesters Are Tools of the Oligarc...</td>\n",
       "    </tr>\n",
       "    <tr>\n",
       "      <th>2319</th>\n",
       "      <td>4021</td>\n",
       "      <td>In Ethiopia, Obama seeks progress on peace, se...</td>\n",
       "      <td>ADDIS ABABA, Ethiopia —President Obama convene...</td>\n",
       "      <td>None</td>\n",
       "      <td>In Ethiopia, Obama seeks progress on peace, se...</td>\n",
       "    </tr>\n",
       "    <tr>\n",
       "      <th>2320</th>\n",
       "      <td>4330</td>\n",
       "      <td>Jeb Bush Is Suddenly Attacking Trump. Here's W...</td>\n",
       "      <td>Jeb Bush Is Suddenly Attacking Trump. Here's W...</td>\n",
       "      <td>None</td>\n",
       "      <td>Jeb Bush Is Suddenly Attacking Trump. Here's W...</td>\n",
       "    </tr>\n",
       "  </tbody>\n",
       "</table>\n",
       "</div>"
      ],
      "text/plain": [
       "        ID                                              title  \\\n",
       "2316  4490  State Department says it can't find emails fro...   \n",
       "2317  8062  The ‘P’ in PBS Should Stand for ‘Plutocratic’ ...   \n",
       "2318  8622  Anti-Trump Protesters Are Tools of the Oligarc...   \n",
       "2319  4021  In Ethiopia, Obama seeks progress on peace, se...   \n",
       "2320  4330  Jeb Bush Is Suddenly Attacking Trump. Here's W...   \n",
       "\n",
       "                                                   text label  \\\n",
       "2316  The State Department told the Republican Natio...  None   \n",
       "2317  The ‘P’ in PBS Should Stand for ‘Plutocratic’ ...  None   \n",
       "2318   Anti-Trump Protesters Are Tools of the Oligar...  None   \n",
       "2319  ADDIS ABABA, Ethiopia —President Obama convene...  None   \n",
       "2320  Jeb Bush Is Suddenly Attacking Trump. Here's W...  None   \n",
       "\n",
       "                                         title_and_text  \n",
       "2316  State Department says it can't find emails fro...  \n",
       "2317  The ‘P’ in PBS Should Stand for ‘Plutocratic’ ...  \n",
       "2318  Anti-Trump Protesters Are Tools of the Oligarc...  \n",
       "2319  In Ethiopia, Obama seeks progress on peace, se...  \n",
       "2320  Jeb Bush Is Suddenly Attacking Trump. Here's W...  "
      ]
     },
     "execution_count": 21,
     "metadata": {},
     "output_type": "execute_result"
    }
   ],
   "source": [
    "df['title_and_text'] = df['title'] +' '+ df['text']\n",
    "df.tail()"
   ]
  },
  {
   "cell_type": "code",
   "execution_count": 22,
   "id": "65b9eb24",
   "metadata": {},
   "outputs": [
    {
     "name": "stderr",
     "output_type": "stream",
     "text": [
      "[nltk_data] Downloading package stopwords to\n",
      "[nltk_data]     C:\\Users\\gauth\\AppData\\Roaming\\nltk_data...\n",
      "[nltk_data]   Package stopwords is already up-to-date!\n"
     ]
    },
    {
     "data": {
      "text/plain": [
       "True"
      ]
     },
     "execution_count": 22,
     "metadata": {},
     "output_type": "execute_result"
    }
   ],
   "source": [
    "nltk.download('stopwords')"
   ]
  },
  {
   "cell_type": "code",
   "execution_count": 23,
   "id": "b661d701",
   "metadata": {},
   "outputs": [
    {
     "name": "stderr",
     "output_type": "stream",
     "text": [
      "[nltk_data] Downloading package wordnet to\n",
      "[nltk_data]     C:\\Users\\gauth\\AppData\\Roaming\\nltk_data...\n",
      "[nltk_data]   Package wordnet is already up-to-date!\n"
     ]
    },
    {
     "data": {
      "text/plain": [
       "True"
      ]
     },
     "execution_count": 23,
     "metadata": {},
     "output_type": "execute_result"
    }
   ],
   "source": [
    "nltk.download('wordnet')"
   ]
  },
  {
   "cell_type": "code",
   "execution_count": 32,
   "id": "942a7f4e",
   "metadata": {},
   "outputs": [
    {
     "ename": "KeyboardInterrupt",
     "evalue": "",
     "output_type": "error",
     "traceback": [
      "\u001b[1;31m---------------------------------------------------------------------------\u001b[0m",
      "\u001b[1;31mKeyboardInterrupt\u001b[0m                         Traceback (most recent call last)",
      "\u001b[1;32m~\\AppData\\Local\\Temp/ipykernel_8436/3303813934.py\u001b[0m in \u001b[0;36m<module>\u001b[1;34m\u001b[0m\n\u001b[1;32m----> 1\u001b[1;33m \u001b[0mdf\u001b[0m\u001b[1;33m[\u001b[0m\u001b[1;34m'preprocessed_text'\u001b[0m\u001b[1;33m]\u001b[0m \u001b[1;33m=\u001b[0m \u001b[0mdf\u001b[0m\u001b[1;33m[\u001b[0m\u001b[1;34m'title_and_text'\u001b[0m\u001b[1;33m]\u001b[0m\u001b[1;33m.\u001b[0m\u001b[0mapply\u001b[0m\u001b[1;33m(\u001b[0m\u001b[1;32mlambda\u001b[0m \u001b[0mx\u001b[0m\u001b[1;33m:\u001b[0m \u001b[0mpreprocess\u001b[0m\u001b[1;33m(\u001b[0m\u001b[0mx\u001b[0m\u001b[1;33m)\u001b[0m\u001b[1;33m)\u001b[0m\u001b[1;33m\u001b[0m\u001b[1;33m\u001b[0m\u001b[0m\n\u001b[0m",
      "\u001b[1;32mC:\\ProgramData\\Anaconda3\\lib\\site-packages\\pandas\\core\\series.py\u001b[0m in \u001b[0;36mapply\u001b[1;34m(self, func, convert_dtype, args, **kwargs)\u001b[0m\n\u001b[0;32m   4355\u001b[0m         \u001b[0mdtype\u001b[0m\u001b[1;33m:\u001b[0m \u001b[0mfloat64\u001b[0m\u001b[1;33m\u001b[0m\u001b[1;33m\u001b[0m\u001b[0m\n\u001b[0;32m   4356\u001b[0m         \"\"\"\n\u001b[1;32m-> 4357\u001b[1;33m         \u001b[1;32mreturn\u001b[0m \u001b[0mSeriesApply\u001b[0m\u001b[1;33m(\u001b[0m\u001b[0mself\u001b[0m\u001b[1;33m,\u001b[0m \u001b[0mfunc\u001b[0m\u001b[1;33m,\u001b[0m \u001b[0mconvert_dtype\u001b[0m\u001b[1;33m,\u001b[0m \u001b[0margs\u001b[0m\u001b[1;33m,\u001b[0m \u001b[0mkwargs\u001b[0m\u001b[1;33m)\u001b[0m\u001b[1;33m.\u001b[0m\u001b[0mapply\u001b[0m\u001b[1;33m(\u001b[0m\u001b[1;33m)\u001b[0m\u001b[1;33m\u001b[0m\u001b[1;33m\u001b[0m\u001b[0m\n\u001b[0m\u001b[0;32m   4358\u001b[0m \u001b[1;33m\u001b[0m\u001b[0m\n\u001b[0;32m   4359\u001b[0m     def _reduce(\n",
      "\u001b[1;32mC:\\ProgramData\\Anaconda3\\lib\\site-packages\\pandas\\core\\apply.py\u001b[0m in \u001b[0;36mapply\u001b[1;34m(self)\u001b[0m\n\u001b[0;32m   1041\u001b[0m             \u001b[1;32mreturn\u001b[0m \u001b[0mself\u001b[0m\u001b[1;33m.\u001b[0m\u001b[0mapply_str\u001b[0m\u001b[1;33m(\u001b[0m\u001b[1;33m)\u001b[0m\u001b[1;33m\u001b[0m\u001b[1;33m\u001b[0m\u001b[0m\n\u001b[0;32m   1042\u001b[0m \u001b[1;33m\u001b[0m\u001b[0m\n\u001b[1;32m-> 1043\u001b[1;33m         \u001b[1;32mreturn\u001b[0m \u001b[0mself\u001b[0m\u001b[1;33m.\u001b[0m\u001b[0mapply_standard\u001b[0m\u001b[1;33m(\u001b[0m\u001b[1;33m)\u001b[0m\u001b[1;33m\u001b[0m\u001b[1;33m\u001b[0m\u001b[0m\n\u001b[0m\u001b[0;32m   1044\u001b[0m \u001b[1;33m\u001b[0m\u001b[0m\n\u001b[0;32m   1045\u001b[0m     \u001b[1;32mdef\u001b[0m \u001b[0magg\u001b[0m\u001b[1;33m(\u001b[0m\u001b[0mself\u001b[0m\u001b[1;33m)\u001b[0m\u001b[1;33m:\u001b[0m\u001b[1;33m\u001b[0m\u001b[1;33m\u001b[0m\u001b[0m\n",
      "\u001b[1;32mC:\\ProgramData\\Anaconda3\\lib\\site-packages\\pandas\\core\\apply.py\u001b[0m in \u001b[0;36mapply_standard\u001b[1;34m(self)\u001b[0m\n\u001b[0;32m   1096\u001b[0m                 \u001b[1;31m# List[Union[Callable[..., Any], str]]]]]\"; expected\u001b[0m\u001b[1;33m\u001b[0m\u001b[1;33m\u001b[0m\u001b[0m\n\u001b[0;32m   1097\u001b[0m                 \u001b[1;31m# \"Callable[[Any], Any]\"\u001b[0m\u001b[1;33m\u001b[0m\u001b[1;33m\u001b[0m\u001b[0m\n\u001b[1;32m-> 1098\u001b[1;33m                 mapped = lib.map_infer(\n\u001b[0m\u001b[0;32m   1099\u001b[0m                     \u001b[0mvalues\u001b[0m\u001b[1;33m,\u001b[0m\u001b[1;33m\u001b[0m\u001b[1;33m\u001b[0m\u001b[0m\n\u001b[0;32m   1100\u001b[0m                     \u001b[0mf\u001b[0m\u001b[1;33m,\u001b[0m  \u001b[1;31m# type: ignore[arg-type]\u001b[0m\u001b[1;33m\u001b[0m\u001b[1;33m\u001b[0m\u001b[0m\n",
      "\u001b[1;32mC:\\ProgramData\\Anaconda3\\lib\\site-packages\\pandas\\_libs\\lib.pyx\u001b[0m in \u001b[0;36mpandas._libs.lib.map_infer\u001b[1;34m()\u001b[0m\n",
      "\u001b[1;32m~\\AppData\\Local\\Temp/ipykernel_8436/3303813934.py\u001b[0m in \u001b[0;36m<lambda>\u001b[1;34m(x)\u001b[0m\n\u001b[1;32m----> 1\u001b[1;33m \u001b[0mdf\u001b[0m\u001b[1;33m[\u001b[0m\u001b[1;34m'preprocessed_text'\u001b[0m\u001b[1;33m]\u001b[0m \u001b[1;33m=\u001b[0m \u001b[0mdf\u001b[0m\u001b[1;33m[\u001b[0m\u001b[1;34m'title_and_text'\u001b[0m\u001b[1;33m]\u001b[0m\u001b[1;33m.\u001b[0m\u001b[0mapply\u001b[0m\u001b[1;33m(\u001b[0m\u001b[1;32mlambda\u001b[0m \u001b[0mx\u001b[0m\u001b[1;33m:\u001b[0m \u001b[0mpreprocess\u001b[0m\u001b[1;33m(\u001b[0m\u001b[0mx\u001b[0m\u001b[1;33m)\u001b[0m\u001b[1;33m)\u001b[0m\u001b[1;33m\u001b[0m\u001b[1;33m\u001b[0m\u001b[0m\n\u001b[0m",
      "\u001b[1;32m~\\Desktop\\fake news project\\python_helper.py\u001b[0m in \u001b[0;36mpreprocess\u001b[1;34m(text)\u001b[0m\n\u001b[0;32m     93\u001b[0m     \u001b[0mtext\u001b[0m \u001b[1;33m=\u001b[0m \u001b[1;33m[\u001b[0m\u001b[0mt\u001b[0m \u001b[1;32mfor\u001b[0m \u001b[0mt\u001b[0m \u001b[1;32min\u001b[0m \u001b[0mtext\u001b[0m \u001b[1;32mif\u001b[0m \u001b[0mlen\u001b[0m\u001b[1;33m(\u001b[0m\u001b[0mt\u001b[0m\u001b[1;33m)\u001b[0m \u001b[1;33m>\u001b[0m \u001b[1;36m0\u001b[0m\u001b[1;33m]\u001b[0m\u001b[1;33m\u001b[0m\u001b[1;33m\u001b[0m\u001b[0m\n\u001b[0;32m     94\u001b[0m     \u001b[1;31m# pos tag the text\u001b[0m\u001b[1;33m\u001b[0m\u001b[1;33m\u001b[0m\u001b[0m\n\u001b[1;32m---> 95\u001b[1;33m     \u001b[0mpos_tags\u001b[0m \u001b[1;33m=\u001b[0m \u001b[0mpos_tag\u001b[0m\u001b[1;33m(\u001b[0m\u001b[0mtext\u001b[0m\u001b[1;33m)\u001b[0m\u001b[1;33m\u001b[0m\u001b[1;33m\u001b[0m\u001b[0m\n\u001b[0m\u001b[0;32m     96\u001b[0m     \u001b[1;31m# lemmatize the text\u001b[0m\u001b[1;33m\u001b[0m\u001b[1;33m\u001b[0m\u001b[0m\n\u001b[0;32m     97\u001b[0m     \u001b[0mtext\u001b[0m \u001b[1;33m=\u001b[0m \u001b[1;33m[\u001b[0m\u001b[0mWordNetLemmatizer\u001b[0m\u001b[1;33m(\u001b[0m\u001b[1;33m)\u001b[0m\u001b[1;33m.\u001b[0m\u001b[0mlemmatize\u001b[0m\u001b[1;33m(\u001b[0m\u001b[0mt\u001b[0m\u001b[1;33m[\u001b[0m\u001b[1;36m0\u001b[0m\u001b[1;33m]\u001b[0m\u001b[1;33m,\u001b[0m \u001b[0mget_wordnet_pos\u001b[0m\u001b[1;33m(\u001b[0m\u001b[0mt\u001b[0m\u001b[1;33m[\u001b[0m\u001b[1;36m1\u001b[0m\u001b[1;33m]\u001b[0m\u001b[1;33m)\u001b[0m\u001b[1;33m)\u001b[0m \u001b[1;32mfor\u001b[0m \u001b[0mt\u001b[0m \u001b[1;32min\u001b[0m \u001b[0mpos_tags\u001b[0m\u001b[1;33m]\u001b[0m\u001b[1;33m\u001b[0m\u001b[1;33m\u001b[0m\u001b[0m\n",
      "\u001b[1;32mC:\\ProgramData\\Anaconda3\\lib\\site-packages\\nltk\\tag\\__init__.py\u001b[0m in \u001b[0;36mpos_tag\u001b[1;34m(tokens, tagset, lang)\u001b[0m\n\u001b[0;32m    164\u001b[0m     \"\"\"\n\u001b[0;32m    165\u001b[0m     \u001b[0mtagger\u001b[0m \u001b[1;33m=\u001b[0m \u001b[0m_get_tagger\u001b[0m\u001b[1;33m(\u001b[0m\u001b[0mlang\u001b[0m\u001b[1;33m)\u001b[0m\u001b[1;33m\u001b[0m\u001b[1;33m\u001b[0m\u001b[0m\n\u001b[1;32m--> 166\u001b[1;33m     \u001b[1;32mreturn\u001b[0m \u001b[0m_pos_tag\u001b[0m\u001b[1;33m(\u001b[0m\u001b[0mtokens\u001b[0m\u001b[1;33m,\u001b[0m \u001b[0mtagset\u001b[0m\u001b[1;33m,\u001b[0m \u001b[0mtagger\u001b[0m\u001b[1;33m,\u001b[0m \u001b[0mlang\u001b[0m\u001b[1;33m)\u001b[0m\u001b[1;33m\u001b[0m\u001b[1;33m\u001b[0m\u001b[0m\n\u001b[0m\u001b[0;32m    167\u001b[0m \u001b[1;33m\u001b[0m\u001b[0m\n\u001b[0;32m    168\u001b[0m \u001b[1;33m\u001b[0m\u001b[0m\n",
      "\u001b[1;32mC:\\ProgramData\\Anaconda3\\lib\\site-packages\\nltk\\tag\\__init__.py\u001b[0m in \u001b[0;36m_pos_tag\u001b[1;34m(tokens, tagset, tagger, lang)\u001b[0m\n\u001b[0;32m    121\u001b[0m \u001b[1;33m\u001b[0m\u001b[0m\n\u001b[0;32m    122\u001b[0m     \u001b[1;32melse\u001b[0m\u001b[1;33m:\u001b[0m\u001b[1;33m\u001b[0m\u001b[1;33m\u001b[0m\u001b[0m\n\u001b[1;32m--> 123\u001b[1;33m         \u001b[0mtagged_tokens\u001b[0m \u001b[1;33m=\u001b[0m \u001b[0mtagger\u001b[0m\u001b[1;33m.\u001b[0m\u001b[0mtag\u001b[0m\u001b[1;33m(\u001b[0m\u001b[0mtokens\u001b[0m\u001b[1;33m)\u001b[0m\u001b[1;33m\u001b[0m\u001b[1;33m\u001b[0m\u001b[0m\n\u001b[0m\u001b[0;32m    124\u001b[0m         \u001b[1;32mif\u001b[0m \u001b[0mtagset\u001b[0m\u001b[1;33m:\u001b[0m  \u001b[1;31m# Maps to the specified tagset.\u001b[0m\u001b[1;33m\u001b[0m\u001b[1;33m\u001b[0m\u001b[0m\n\u001b[0;32m    125\u001b[0m             \u001b[1;32mif\u001b[0m \u001b[0mlang\u001b[0m \u001b[1;33m==\u001b[0m \u001b[1;34m\"eng\"\u001b[0m\u001b[1;33m:\u001b[0m\u001b[1;33m\u001b[0m\u001b[1;33m\u001b[0m\u001b[0m\n",
      "\u001b[1;32mC:\\ProgramData\\Anaconda3\\lib\\site-packages\\nltk\\tag\\perceptron.py\u001b[0m in \u001b[0;36mtag\u001b[1;34m(self, tokens, return_conf, use_tagdict)\u001b[0m\n\u001b[0;32m    185\u001b[0m             \u001b[1;32mif\u001b[0m \u001b[1;32mnot\u001b[0m \u001b[0mtag\u001b[0m\u001b[1;33m:\u001b[0m\u001b[1;33m\u001b[0m\u001b[1;33m\u001b[0m\u001b[0m\n\u001b[0;32m    186\u001b[0m                 \u001b[0mfeatures\u001b[0m \u001b[1;33m=\u001b[0m \u001b[0mself\u001b[0m\u001b[1;33m.\u001b[0m\u001b[0m_get_features\u001b[0m\u001b[1;33m(\u001b[0m\u001b[0mi\u001b[0m\u001b[1;33m,\u001b[0m \u001b[0mword\u001b[0m\u001b[1;33m,\u001b[0m \u001b[0mcontext\u001b[0m\u001b[1;33m,\u001b[0m \u001b[0mprev\u001b[0m\u001b[1;33m,\u001b[0m \u001b[0mprev2\u001b[0m\u001b[1;33m)\u001b[0m\u001b[1;33m\u001b[0m\u001b[1;33m\u001b[0m\u001b[0m\n\u001b[1;32m--> 187\u001b[1;33m                 \u001b[0mtag\u001b[0m\u001b[1;33m,\u001b[0m \u001b[0mconf\u001b[0m \u001b[1;33m=\u001b[0m \u001b[0mself\u001b[0m\u001b[1;33m.\u001b[0m\u001b[0mmodel\u001b[0m\u001b[1;33m.\u001b[0m\u001b[0mpredict\u001b[0m\u001b[1;33m(\u001b[0m\u001b[0mfeatures\u001b[0m\u001b[1;33m,\u001b[0m \u001b[0mreturn_conf\u001b[0m\u001b[1;33m)\u001b[0m\u001b[1;33m\u001b[0m\u001b[1;33m\u001b[0m\u001b[0m\n\u001b[0m\u001b[0;32m    188\u001b[0m             \u001b[0moutput\u001b[0m\u001b[1;33m.\u001b[0m\u001b[0mappend\u001b[0m\u001b[1;33m(\u001b[0m\u001b[1;33m(\u001b[0m\u001b[0mword\u001b[0m\u001b[1;33m,\u001b[0m \u001b[0mtag\u001b[0m\u001b[1;33m,\u001b[0m \u001b[0mconf\u001b[0m\u001b[1;33m)\u001b[0m \u001b[1;32mif\u001b[0m \u001b[0mreturn_conf\u001b[0m \u001b[1;33m==\u001b[0m \u001b[1;32mTrue\u001b[0m \u001b[1;32melse\u001b[0m \u001b[1;33m(\u001b[0m\u001b[0mword\u001b[0m\u001b[1;33m,\u001b[0m \u001b[0mtag\u001b[0m\u001b[1;33m)\u001b[0m\u001b[1;33m)\u001b[0m\u001b[1;33m\u001b[0m\u001b[1;33m\u001b[0m\u001b[0m\n\u001b[0;32m    189\u001b[0m \u001b[1;33m\u001b[0m\u001b[0m\n",
      "\u001b[1;32mC:\\ProgramData\\Anaconda3\\lib\\site-packages\\nltk\\tag\\perceptron.py\u001b[0m in \u001b[0;36mpredict\u001b[1;34m(self, features, return_conf)\u001b[0m\n\u001b[0;32m     64\u001b[0m             \u001b[0mweights\u001b[0m \u001b[1;33m=\u001b[0m \u001b[0mself\u001b[0m\u001b[1;33m.\u001b[0m\u001b[0mweights\u001b[0m\u001b[1;33m[\u001b[0m\u001b[0mfeat\u001b[0m\u001b[1;33m]\u001b[0m\u001b[1;33m\u001b[0m\u001b[1;33m\u001b[0m\u001b[0m\n\u001b[0;32m     65\u001b[0m             \u001b[1;32mfor\u001b[0m \u001b[0mlabel\u001b[0m\u001b[1;33m,\u001b[0m \u001b[0mweight\u001b[0m \u001b[1;32min\u001b[0m \u001b[0mweights\u001b[0m\u001b[1;33m.\u001b[0m\u001b[0mitems\u001b[0m\u001b[1;33m(\u001b[0m\u001b[1;33m)\u001b[0m\u001b[1;33m:\u001b[0m\u001b[1;33m\u001b[0m\u001b[1;33m\u001b[0m\u001b[0m\n\u001b[1;32m---> 66\u001b[1;33m                 \u001b[0mscores\u001b[0m\u001b[1;33m[\u001b[0m\u001b[0mlabel\u001b[0m\u001b[1;33m]\u001b[0m \u001b[1;33m+=\u001b[0m \u001b[0mvalue\u001b[0m \u001b[1;33m*\u001b[0m \u001b[0mweight\u001b[0m\u001b[1;33m\u001b[0m\u001b[1;33m\u001b[0m\u001b[0m\n\u001b[0m\u001b[0;32m     67\u001b[0m \u001b[1;33m\u001b[0m\u001b[0m\n\u001b[0;32m     68\u001b[0m         \u001b[1;31m# Do a secondary alphabetic sort, for stability\u001b[0m\u001b[1;33m\u001b[0m\u001b[1;33m\u001b[0m\u001b[0m\n",
      "\u001b[1;31mKeyboardInterrupt\u001b[0m: "
     ]
    }
   ],
   "source": [
    "df['preprocessed_text'] = df['title_and_text'].apply(lambda x: preprocess(x))"
   ]
  },
  {
   "cell_type": "code",
   "execution_count": null,
   "id": "86e28be2",
   "metadata": {},
   "outputs": [],
   "source": [
    "df.to_csv(\"fake_or_real_news_train_PREPROCESSED.csv\", index=False)"
   ]
  },
  {
   "cell_type": "code",
   "execution_count": null,
   "id": "ea28eca9",
   "metadata": {},
   "outputs": [],
   "source": [
    "df = pd.read_csv(\"fake_or_real_news_train_PREPROCESSED.csv\")\n",
    "df = df.astype(object).replace(np.nan, 'None')"
   ]
  },
  {
   "cell_type": "code",
   "execution_count": 29,
   "id": "3e77bdee",
   "metadata": {},
   "outputs": [
    {
     "data": {
      "text/html": [
       "<div>\n",
       "<style scoped>\n",
       "    .dataframe tbody tr th:only-of-type {\n",
       "        vertical-align: middle;\n",
       "    }\n",
       "\n",
       "    .dataframe tbody tr th {\n",
       "        vertical-align: top;\n",
       "    }\n",
       "\n",
       "    .dataframe thead th {\n",
       "        text-align: right;\n",
       "    }\n",
       "</style>\n",
       "<table border=\"1\" class=\"dataframe\">\n",
       "  <thead>\n",
       "    <tr style=\"text-align: right;\">\n",
       "      <th></th>\n",
       "      <th>ID</th>\n",
       "      <th>title</th>\n",
       "      <th>text</th>\n",
       "      <th>label</th>\n",
       "      <th>title_and_text</th>\n",
       "      <th>preprocessed_text</th>\n",
       "    </tr>\n",
       "  </thead>\n",
       "  <tbody>\n",
       "    <tr>\n",
       "      <th>6313</th>\n",
       "      <td>4490</td>\n",
       "      <td>State Department says it can't find emails fro...</td>\n",
       "      <td>The State Department told the Republican Natio...</td>\n",
       "      <td>None</td>\n",
       "      <td>State Department says it can't find emails fro...</td>\n",
       "      <td>state department say can't find emails clinton...</td>\n",
       "    </tr>\n",
       "    <tr>\n",
       "      <th>6314</th>\n",
       "      <td>8062</td>\n",
       "      <td>The ‘P’ in PBS Should Stand for ‘Plutocratic’ ...</td>\n",
       "      <td>The ‘P’ in PBS Should Stand for ‘Plutocratic’ ...</td>\n",
       "      <td>None</td>\n",
       "      <td>The ‘P’ in PBS Should Stand for ‘Plutocratic’ ...</td>\n",
       "      <td>‘p’ pb stand ‘plutocratic’ ‘pentagon’ ‘p’ pb s...</td>\n",
       "    </tr>\n",
       "    <tr>\n",
       "      <th>6315</th>\n",
       "      <td>8622</td>\n",
       "      <td>Anti-Trump Protesters Are Tools of the Oligarc...</td>\n",
       "      <td>Anti-Trump Protesters Are Tools of the Oligar...</td>\n",
       "      <td>None</td>\n",
       "      <td>Anti-Trump Protesters Are Tools of the Oligarc...</td>\n",
       "      <td>anti-trump protester tool oligarchy informatio...</td>\n",
       "    </tr>\n",
       "    <tr>\n",
       "      <th>6316</th>\n",
       "      <td>4021</td>\n",
       "      <td>In Ethiopia, Obama seeks progress on peace, se...</td>\n",
       "      <td>ADDIS ABABA, Ethiopia —President Obama convene...</td>\n",
       "      <td>None</td>\n",
       "      <td>In Ethiopia, Obama seeks progress on peace, se...</td>\n",
       "      <td>ethiopia obama seek progress peace security ea...</td>\n",
       "    </tr>\n",
       "    <tr>\n",
       "      <th>6317</th>\n",
       "      <td>4330</td>\n",
       "      <td>Jeb Bush Is Suddenly Attacking Trump. Here's W...</td>\n",
       "      <td>Jeb Bush Is Suddenly Attacking Trump. Here's W...</td>\n",
       "      <td>None</td>\n",
       "      <td>Jeb Bush Is Suddenly Attacking Trump. Here's W...</td>\n",
       "      <td>jeb bush suddenly attack trump here's matter j...</td>\n",
       "    </tr>\n",
       "  </tbody>\n",
       "</table>\n",
       "</div>"
      ],
      "text/plain": [
       "        ID                                              title  \\\n",
       "6313  4490  State Department says it can't find emails fro...   \n",
       "6314  8062  The ‘P’ in PBS Should Stand for ‘Plutocratic’ ...   \n",
       "6315  8622  Anti-Trump Protesters Are Tools of the Oligarc...   \n",
       "6316  4021  In Ethiopia, Obama seeks progress on peace, se...   \n",
       "6317  4330  Jeb Bush Is Suddenly Attacking Trump. Here's W...   \n",
       "\n",
       "                                                   text label  \\\n",
       "6313  The State Department told the Republican Natio...  None   \n",
       "6314  The ‘P’ in PBS Should Stand for ‘Plutocratic’ ...  None   \n",
       "6315   Anti-Trump Protesters Are Tools of the Oligar...  None   \n",
       "6316  ADDIS ABABA, Ethiopia —President Obama convene...  None   \n",
       "6317  Jeb Bush Is Suddenly Attacking Trump. Here's W...  None   \n",
       "\n",
       "                                         title_and_text  \\\n",
       "6313  State Department says it can't find emails fro...   \n",
       "6314  The ‘P’ in PBS Should Stand for ‘Plutocratic’ ...   \n",
       "6315  Anti-Trump Protesters Are Tools of the Oligarc...   \n",
       "6316  In Ethiopia, Obama seeks progress on peace, se...   \n",
       "6317  Jeb Bush Is Suddenly Attacking Trump. Here's W...   \n",
       "\n",
       "                                      preprocessed_text  \n",
       "6313  state department say can't find emails clinton...  \n",
       "6314  ‘p’ pb stand ‘plutocratic’ ‘pentagon’ ‘p’ pb s...  \n",
       "6315  anti-trump protester tool oligarchy informatio...  \n",
       "6316  ethiopia obama seek progress peace security ea...  \n",
       "6317  jeb bush suddenly attack trump here's matter j...  "
      ]
     },
     "execution_count": 29,
     "metadata": {},
     "output_type": "execute_result"
    }
   ],
   "source": [
    "df.tail()"
   ]
  },
  {
   "cell_type": "code",
   "execution_count": 30,
   "id": "73fc80fe",
   "metadata": {},
   "outputs": [
    {
     "name": "stdout",
     "output_type": "stream",
     "text": [
      "\n",
      "Train dataset (Full)\n",
      "(3997, 7)\n",
      "Train dataset cols\n",
      "['ID', 'title', 'text', 'label', 'title_and_text', 'preprocessed_text', 'encoded_label']\n",
      "\n",
      "Train CV dataset (subset)\n",
      "(2677, 7)\n",
      "Train Holdout dataset (subset)\n",
      "(1320, 7)\n",
      "\n",
      "Test dataset\n",
      "(2321, 6)\n",
      "Test dataset cols\n",
      "['ID', 'title', 'text', 'label', 'title_and_text', 'preprocessed_text']\n"
     ]
    }
   ],
   "source": [
    "encoder, train, test, train_cv, train_holdout, train_cv_label, train_holdout_label = split_train_holdout_test(encoder, df)"
   ]
  },
  {
   "cell_type": "code",
   "execution_count": 31,
   "id": "e219d65f",
   "metadata": {},
   "outputs": [
    {
     "data": {
      "text/plain": [
       "LabelEncoder()"
      ]
     },
     "execution_count": 31,
     "metadata": {},
     "output_type": "execute_result"
    }
   ],
   "source": [
    "encoder\n"
   ]
  },
  {
   "cell_type": "code",
   "execution_count": 33,
   "id": "e2d901db",
   "metadata": {},
   "outputs": [],
   "source": [
    "models = pd.DataFrame(columns=['model_name', 'model_object', 'score'])"
   ]
  },
  {
   "cell_type": "code",
   "execution_count": 34,
   "id": "ab002eb0",
   "metadata": {},
   "outputs": [],
   "source": [
    "count_vect = CountVectorizer(analyzer = \"word\")\n",
    "\n",
    "count_vectorizer = count_vect.fit(df.preprocessed_text)\n",
    "\n",
    "train_cv_vector = count_vectorizer.transform(train_cv.preprocessed_text)\n",
    "train_holdout_vector = count_vectorizer.transform(train_holdout.preprocessed_text)\n",
    "test_vector = count_vectorizer.transform(test.preprocessed_text)"
   ]
  },
  {
   "cell_type": "code",
   "execution_count": 35,
   "id": "b1478088",
   "metadata": {},
   "outputs": [
    {
     "data": {
      "text/plain": [
       "['___',\n",
       " '_blank',\n",
       " '_derosa',\n",
       " '_rt_op_edge',\n",
       " '_strauss',\n",
       " 'aa',\n",
       " 'aaa',\n",
       " 'aaahhh',\n",
       " 'aab',\n",
       " 'aachen']"
      ]
     },
     "execution_count": 35,
     "metadata": {},
     "output_type": "execute_result"
    }
   ],
   "source": [
    "count_vect.get_feature_names()[:10]"
   ]
  },
  {
   "cell_type": "code",
   "execution_count": 36,
   "id": "1122a774",
   "metadata": {},
   "outputs": [
    {
     "name": "stdout",
     "output_type": "stream",
     "text": [
      "\u001b[31mBaseline Model 1: SVC\u001b[0m\n",
      "\u001b[33mGridSearchCV(cv=ShuffleSplit(n_splits=5, random_state=12345, test_size=0.2, train_size=None),\n",
      "             estimator=SVC(),\n",
      "             param_grid=[{'C': [1, 10, 50, 100], 'kernel': ['linear']},\n",
      "                         {'C': [10, 100, 500, 1000], 'gamma': [0.0001],\n",
      "                          'kernel': ['rbf']}])\u001b[0m\n",
      "\u001b[34m\n",
      "CV-scores\u001b[0m\n",
      "Accuracy: 0.909 (+/-0.022) for params: {'C': 100, 'gamma': 0.0001, 'kernel': 'rbf'}\n",
      "Accuracy: 0.902 (+/-0.030) for params: {'C': 500, 'gamma': 0.0001, 'kernel': 'rbf'}\n",
      "Accuracy: 0.893 (+/-0.030) for params: {'C': 1000, 'gamma': 0.0001, 'kernel': 'rbf'}\n",
      "Accuracy: 0.892 (+/-0.036) for params: {'C': 1, 'kernel': 'linear'}\n",
      "Accuracy: 0.892 (+/-0.036) for params: {'C': 10, 'kernel': 'linear'}\n",
      "Accuracy: 0.892 (+/-0.036) for params: {'C': 50, 'kernel': 'linear'}\n",
      "Accuracy: 0.892 (+/-0.036) for params: {'C': 100, 'kernel': 'linear'}\n",
      "Accuracy: 0.886 (+/-0.011) for params: {'C': 10, 'gamma': 0.0001, 'kernel': 'rbf'}\n",
      "\n",
      "\u001b[34m\n",
      "Best Estimator Params\u001b[0m\n",
      "\u001b[33mSVC(C=100, gamma=0.0001)\u001b[0m\n",
      "\u001b[34m\n",
      "Predictions:\u001b[0m\n",
      "['REAL' 'REAL' 'FAKE' ... 'REAL' 'FAKE' 'REAL']\n"
     ]
    },
    {
     "data": {
      "image/png": "[encoded data removed]",
      "text/plain": [
       "<Figure size 396x288 with 2 Axes>"
      ]
     },
     "metadata": {
      "needs_background": "light"
     },
     "output_type": "display_data"
    },
    {
     "name": "stdout",
     "output_type": "stream",
     "text": [
      "\u001b[34m\n",
      "Accuracy:\u001b[0m\n",
      "\u001b[32m0.9136363636363637\u001b[0m\n"
     ]
    }
   ],
   "source": [
    "SVC_classifier = runModel(encoder,\n",
    "               train_cv_vector,\n",
    "               train_cv_label,\n",
    "               train_holdout_vector,\n",
    "               train_holdout.label,\n",
    "               \"svc\",\n",
    "               \"Baseline Model 1: SVC\")\n",
    "models.loc[len(models)] = SVC"
   ]
  },
  {
   "cell_type": "code",
   "execution_count": 37,
   "id": "564a3d82",
   "metadata": {},
   "outputs": [
    {
     "name": "stdout",
     "output_type": "stream",
     "text": [
      "\u001b[31mBaseline Model 2: Naiive Bayes\u001b[0m\n",
      "\u001b[33mGridSearchCV(cv=ShuffleSplit(n_splits=5, random_state=12345, test_size=0.2, train_size=None),\n",
      "             estimator=MultinomialNB(), param_grid={})\u001b[0m\n",
      "\u001b[34m\n",
      "CV-scores\u001b[0m\n",
      "Accuracy: 0.887 (+/-0.021) for params: {}\n",
      "\n",
      "\u001b[34m\n",
      "Best Estimator Params\u001b[0m\n",
      "\u001b[33mMultinomialNB()\u001b[0m\n",
      "\u001b[34m\n",
      "Predictions:\u001b[0m\n",
      "['REAL' 'REAL' 'REAL' ... 'REAL' 'REAL' 'REAL']\n"
     ]
    },
    {
     "data": {
      "image/png": "[encoded data removed]",
      "text/plain": [
       "<Figure size 396x288 with 2 Axes>"
      ]
     },
     "metadata": {
      "needs_background": "light"
     },
     "output_type": "display_data"
    },
    {
     "name": "stdout",
     "output_type": "stream",
     "text": [
      "\u001b[34m\n",
      "Accuracy:\u001b[0m\n",
      "\u001b[32m0.8946969696969697\u001b[0m\n"
     ]
    }
   ],
   "source": [
    "NB = runModel(encoder,\n",
    "              train_cv_vector,\n",
    "              train_cv_label,\n",
    "              train_holdout_vector,\n",
    "              train_holdout.label,\n",
    "              \"nb\",\n",
    "              \"Baseline Model 2: Naiive Bayes\")\n",
    "models.loc[len(models)] = NB"
   ]
  },
  {
   "cell_type": "code",
   "execution_count": 38,
   "id": "86982999",
   "metadata": {},
   "outputs": [
    {
     "name": "stdout",
     "output_type": "stream",
     "text": [
      "\u001b[31mBaseline Model 3: MaxEnt Classifier\u001b[0m\n",
      "\u001b[33mGridSearchCV(cv=ShuffleSplit(n_splits=5, random_state=12345, test_size=0.2, train_size=None),\n",
      "             estimator=LogisticRegression(),\n",
      "             param_grid={'C': [0.001, 0.01, 0.1, 1, 10, 100, 1000],\n",
      "                         'penalty': ['l1', 'l2']})\u001b[0m\n",
      "\u001b[34m\n",
      "CV-scores\u001b[0m\n",
      "Accuracy: nan (+/-nan) for params: {'C': 0.001, 'penalty': 'l1'}\n",
      "Accuracy: 0.877 (+/-0.023) for params: {'C': 0.001, 'penalty': 'l2'}\n",
      "Accuracy: nan (+/-nan) for params: {'C': 0.01, 'penalty': 'l1'}\n",
      "Accuracy: 0.913 (+/-0.011) for params: {'C': 0.01, 'penalty': 'l2'}\n",
      "Accuracy: nan (+/-nan) for params: {'C': 0.1, 'penalty': 'l1'}\n",
      "Accuracy: 0.929 (+/-0.012) for params: {'C': 0.1, 'penalty': 'l2'}\n",
      "Accuracy: nan (+/-nan) for params: {'C': 1, 'penalty': 'l1'}\n",
      "Accuracy: 0.926 (+/-0.019) for params: {'C': 1, 'penalty': 'l2'}\n",
      "Accuracy: nan (+/-nan) for params: {'C': 10, 'penalty': 'l1'}\n",
      "Accuracy: 0.916 (+/-0.025) for params: {'C': 10, 'penalty': 'l2'}\n",
      "Accuracy: nan (+/-nan) for params: {'C': 100, 'penalty': 'l1'}\n",
      "Accuracy: 0.910 (+/-0.029) for params: {'C': 100, 'penalty': 'l2'}\n",
      "Accuracy: nan (+/-nan) for params: {'C': 1000, 'penalty': 'l1'}\n",
      "Accuracy: 0.906 (+/-0.033) for params: {'C': 1000, 'penalty': 'l2'}\n",
      "\n",
      "\u001b[34m\n",
      "Best Estimator Params\u001b[0m\n",
      "\u001b[33mLogisticRegression(C=0.1)\u001b[0m\n",
      "\u001b[34m\n",
      "Predictions:\u001b[0m\n",
      "['REAL' 'REAL' 'FAKE' ... 'REAL' 'FAKE' 'REAL']\n"
     ]
    },
    {
     "data": {
      "image/png": "[encoded data removed]",
      "text/plain": [
       "<Figure size 396x288 with 2 Axes>"
      ]
     },
     "metadata": {
      "needs_background": "light"
     },
     "output_type": "display_data"
    },
    {
     "name": "stdout",
     "output_type": "stream",
     "text": [
      "\u001b[34m\n",
      "Accuracy:\u001b[0m\n",
      "\u001b[32m0.9234848484848485\u001b[0m\n"
     ]
    }
   ],
   "source": [
    "maxEnt = runModel(encoder,\n",
    "              train_cv_vector,\n",
    "              train_cv_label,\n",
    "              train_holdout_vector,\n",
    "              train_holdout.label,\n",
    "              \"maxEnt\",\n",
    "              \"Baseline Model 3: MaxEnt Classifier\")\n",
    "models.loc[len(models)] = maxEnt"
   ]
  },
  {
   "cell_type": "code",
   "execution_count": 39,
   "id": "7bb4b8f0",
   "metadata": {},
   "outputs": [
    {
     "data": {
      "text/html": [
       "<div>\n",
       "<style scoped>\n",
       "    .dataframe tbody tr th:only-of-type {\n",
       "        vertical-align: middle;\n",
       "    }\n",
       "\n",
       "    .dataframe tbody tr th {\n",
       "        vertical-align: top;\n",
       "    }\n",
       "\n",
       "    .dataframe thead th {\n",
       "        text-align: right;\n",
       "    }\n",
       "</style>\n",
       "<table border=\"1\" class=\"dataframe\">\n",
       "  <thead>\n",
       "    <tr style=\"text-align: right;\">\n",
       "      <th></th>\n",
       "      <th>model_name</th>\n",
       "      <th>model_object</th>\n",
       "      <th>score</th>\n",
       "    </tr>\n",
       "  </thead>\n",
       "  <tbody>\n",
       "    <tr>\n",
       "      <th>0</th>\n",
       "      <td>&lt;class 'sklearn.svm._classes.SVC'&gt;</td>\n",
       "      <td>&lt;class 'sklearn.svm._classes.SVC'&gt;</td>\n",
       "      <td>&lt;class 'sklearn.svm._classes.SVC'&gt;</td>\n",
       "    </tr>\n",
       "    <tr>\n",
       "      <th>1</th>\n",
       "      <td>Baseline Model 2: Naiive Bayes</td>\n",
       "      <td>GridSearchCV(cv=ShuffleSplit(n_splits=5, rando...</td>\n",
       "      <td>0.894697</td>\n",
       "    </tr>\n",
       "    <tr>\n",
       "      <th>2</th>\n",
       "      <td>Baseline Model 3: MaxEnt Classifier</td>\n",
       "      <td>GridSearchCV(cv=ShuffleSplit(n_splits=5, rando...</td>\n",
       "      <td>0.923485</td>\n",
       "    </tr>\n",
       "  </tbody>\n",
       "</table>\n",
       "</div>"
      ],
      "text/plain": [
       "                            model_name  \\\n",
       "0   <class 'sklearn.svm._classes.SVC'>   \n",
       "1       Baseline Model 2: Naiive Bayes   \n",
       "2  Baseline Model 3: MaxEnt Classifier   \n",
       "\n",
       "                                        model_object  \\\n",
       "0                 <class 'sklearn.svm._classes.SVC'>   \n",
       "1  GridSearchCV(cv=ShuffleSplit(n_splits=5, rando...   \n",
       "2  GridSearchCV(cv=ShuffleSplit(n_splits=5, rando...   \n",
       "\n",
       "                                score  \n",
       "0  <class 'sklearn.svm._classes.SVC'>  \n",
       "1                            0.894697  \n",
       "2                            0.923485  "
      ]
     },
     "execution_count": 39,
     "metadata": {},
     "output_type": "execute_result"
    }
   ],
   "source": [
    "models"
   ]
  },
  {
   "cell_type": "code",
   "execution_count": 41,
   "id": "8d67993c",
   "metadata": {},
   "outputs": [
    {
     "name": "stderr",
     "output_type": "stream",
     "text": [
      "[nltk_data] Downloading package punkt to\n",
      "[nltk_data]     C:\\Users\\gauth\\AppData\\Roaming\\nltk_data...\n",
      "[nltk_data]   Unzipping tokenizers\\punkt.zip.\n"
     ]
    },
    {
     "data": {
      "text/plain": [
       "True"
      ]
     },
     "execution_count": 41,
     "metadata": {},
     "output_type": "execute_result"
    }
   ],
   "source": [
    "nltk.download('punkt')"
   ]
  },
  {
   "cell_type": "code",
   "execution_count": 42,
   "id": "d5dd540d",
   "metadata": {},
   "outputs": [],
   "source": [
    "df['pos_tagged_text'] = df['preprocessed_text'].apply(lambda x: pos_tag_words(x))"
   ]
  },
  {
   "cell_type": "code",
   "execution_count": 43,
   "id": "9ad587a1",
   "metadata": {},
   "outputs": [
    {
     "data": {
      "text/html": [
       "<div>\n",
       "<style scoped>\n",
       "    .dataframe tbody tr th:only-of-type {\n",
       "        vertical-align: middle;\n",
       "    }\n",
       "\n",
       "    .dataframe tbody tr th {\n",
       "        vertical-align: top;\n",
       "    }\n",
       "\n",
       "    .dataframe thead th {\n",
       "        text-align: right;\n",
       "    }\n",
       "</style>\n",
       "<table border=\"1\" class=\"dataframe\">\n",
       "  <thead>\n",
       "    <tr style=\"text-align: right;\">\n",
       "      <th></th>\n",
       "      <th>ID</th>\n",
       "      <th>title</th>\n",
       "      <th>text</th>\n",
       "      <th>label</th>\n",
       "      <th>title_and_text</th>\n",
       "      <th>preprocessed_text</th>\n",
       "      <th>pos_tagged_text</th>\n",
       "    </tr>\n",
       "  </thead>\n",
       "  <tbody>\n",
       "    <tr>\n",
       "      <th>0</th>\n",
       "      <td>8476</td>\n",
       "      <td>You Can Smell Hillary’s Fear</td>\n",
       "      <td>Daniel Greenfield | a Shillman Journalism Fell...</td>\n",
       "      <td>FAKE</td>\n",
       "      <td>You Can Smell Hillary’s Fear Daniel Greenfield...</td>\n",
       "      <td>smell hillary’s fear daniel greenfield shillma...</td>\n",
       "      <td>NN-smell JJ-hillary NNP-’ NN-s NN-fear JJ-dani...</td>\n",
       "    </tr>\n",
       "    <tr>\n",
       "      <th>1</th>\n",
       "      <td>10294</td>\n",
       "      <td>Watch The Exact Moment Paul Ryan Committed Pol...</td>\n",
       "      <td>Google Pinterest Digg Linkedin Reddit Stumbleu...</td>\n",
       "      <td>FAKE</td>\n",
       "      <td>Watch The Exact Moment Paul Ryan Committed Pol...</td>\n",
       "      <td>watch exact moment paul ryan commit political ...</td>\n",
       "      <td>NN-watch JJ-exact NN-moment NN-paul JJ-ryan NN...</td>\n",
       "    </tr>\n",
       "    <tr>\n",
       "      <th>2</th>\n",
       "      <td>3608</td>\n",
       "      <td>Kerry to go to Paris in gesture of sympathy</td>\n",
       "      <td>U.S. Secretary of State John F. Kerry said Mon...</td>\n",
       "      <td>REAL</td>\n",
       "      <td>Kerry to go to Paris in gesture of sympathy U....</td>\n",
       "      <td>kerry go paris gesture sympathy u.s secretary ...</td>\n",
       "      <td>NN-kerry VBP-go JJ-paris NN-gesture JJ-sympath...</td>\n",
       "    </tr>\n",
       "    <tr>\n",
       "      <th>3</th>\n",
       "      <td>10142</td>\n",
       "      <td>Bernie supporters on Twitter erupt in anger ag...</td>\n",
       "      <td>— Kaydee King (@KaydeeKing) November 9 | 2016 ...</td>\n",
       "      <td>FAKE</td>\n",
       "      <td>Bernie supporters on Twitter erupt in anger ag...</td>\n",
       "      <td>bernie supporter twitter erupt anger dnc try w...</td>\n",
       "      <td>NN-bernie NN-supporter NN-twitter JJ-erupt NN-...</td>\n",
       "    </tr>\n",
       "    <tr>\n",
       "      <th>4</th>\n",
       "      <td>875</td>\n",
       "      <td>The Battle of New York: Why This Primary Matte...</td>\n",
       "      <td>Cruz promised his supporters. \"\"We're beating...</td>\n",
       "      <td>REAL</td>\n",
       "      <td>The Battle of New York: Why This Primary Matte...</td>\n",
       "      <td>battle new york primary matter primary day new...</td>\n",
       "      <td>NN-battle JJ-new NN-york JJ-primary NN-matter ...</td>\n",
       "    </tr>\n",
       "  </tbody>\n",
       "</table>\n",
       "</div>"
      ],
      "text/plain": [
       "      ID                                              title  \\\n",
       "0   8476                       You Can Smell Hillary’s Fear   \n",
       "1  10294  Watch The Exact Moment Paul Ryan Committed Pol...   \n",
       "2   3608        Kerry to go to Paris in gesture of sympathy   \n",
       "3  10142  Bernie supporters on Twitter erupt in anger ag...   \n",
       "4    875  The Battle of New York: Why This Primary Matte...   \n",
       "\n",
       "                                                text label  \\\n",
       "0  Daniel Greenfield | a Shillman Journalism Fell...  FAKE   \n",
       "1  Google Pinterest Digg Linkedin Reddit Stumbleu...  FAKE   \n",
       "2  U.S. Secretary of State John F. Kerry said Mon...  REAL   \n",
       "3  — Kaydee King (@KaydeeKing) November 9 | 2016 ...  FAKE   \n",
       "4   Cruz promised his supporters. \"\"We're beating...  REAL   \n",
       "\n",
       "                                      title_and_text  \\\n",
       "0  You Can Smell Hillary’s Fear Daniel Greenfield...   \n",
       "1  Watch The Exact Moment Paul Ryan Committed Pol...   \n",
       "2  Kerry to go to Paris in gesture of sympathy U....   \n",
       "3  Bernie supporters on Twitter erupt in anger ag...   \n",
       "4  The Battle of New York: Why This Primary Matte...   \n",
       "\n",
       "                                   preprocessed_text  \\\n",
       "0  smell hillary’s fear daniel greenfield shillma...   \n",
       "1  watch exact moment paul ryan commit political ...   \n",
       "2  kerry go paris gesture sympathy u.s secretary ...   \n",
       "3  bernie supporter twitter erupt anger dnc try w...   \n",
       "4  battle new york primary matter primary day new...   \n",
       "\n",
       "                                     pos_tagged_text  \n",
       "0  NN-smell JJ-hillary NNP-’ NN-s NN-fear JJ-dani...  \n",
       "1  NN-watch JJ-exact NN-moment NN-paul JJ-ryan NN...  \n",
       "2  NN-kerry VBP-go JJ-paris NN-gesture JJ-sympath...  \n",
       "3  NN-bernie NN-supporter NN-twitter JJ-erupt NN-...  \n",
       "4  NN-battle JJ-new NN-york JJ-primary NN-matter ...  "
      ]
     },
     "execution_count": 43,
     "metadata": {},
     "output_type": "execute_result"
    }
   ],
   "source": [
    "df.head()"
   ]
  },
  {
   "cell_type": "code",
   "execution_count": 44,
   "id": "a20575a7",
   "metadata": {},
   "outputs": [],
   "source": [
    "encoder, train, test, train_cv, train_holdout, train_cv_label, train_holdout_label = split_train_holdout_test(encoder, df, False)\n",
    "\n",
    "count_vect = CountVectorizer(analyzer = \"word\")\n",
    "\n",
    "count_vectorizer = count_vect.fit(df.preprocessed_text)\n",
    "\n",
    "train_cv_vector = count_vectorizer.transform(train_cv.pos_tagged_text)\n",
    "train_holdout_vector = count_vectorizer.transform(train_holdout.pos_tagged_text)\n",
    "test_vector = count_vectorizer.transform(test.pos_tagged_text)"
   ]
  },
  {
   "cell_type": "code",
   "execution_count": 45,
   "id": "fac77d0a",
   "metadata": {},
   "outputs": [
    {
     "name": "stdout",
     "output_type": "stream",
     "text": [
      "\u001b[31mSVC on pos-tagged text\u001b[0m\n",
      "\u001b[33mGridSearchCV(cv=ShuffleSplit(n_splits=5, random_state=12345, test_size=0.2, train_size=None),\n",
      "             estimator=SVC(),\n",
      "             param_grid=[{'C': [1, 10, 50, 100], 'kernel': ['linear']},\n",
      "                         {'C': [10, 100, 500, 1000], 'gamma': [0.0001],\n",
      "                          'kernel': ['rbf']}])\u001b[0m\n",
      "\u001b[34m\n",
      "CV-scores\u001b[0m\n",
      "Accuracy: 0.921 (+/-0.026) for params: {'C': 100, 'gamma': 0.0001, 'kernel': 'rbf'}\n",
      "Accuracy: 0.914 (+/-0.020) for params: {'C': 500, 'gamma': 0.0001, 'kernel': 'rbf'}\n",
      "Accuracy: 0.912 (+/-0.028) for params: {'C': 1000, 'gamma': 0.0001, 'kernel': 'rbf'}\n",
      "Accuracy: 0.912 (+/-0.022) for params: {'C': 10, 'gamma': 0.0001, 'kernel': 'rbf'}\n",
      "Accuracy: 0.904 (+/-0.020) for params: {'C': 1, 'kernel': 'linear'}\n",
      "Accuracy: 0.904 (+/-0.020) for params: {'C': 10, 'kernel': 'linear'}\n",
      "Accuracy: 0.904 (+/-0.020) for params: {'C': 50, 'kernel': 'linear'}\n",
      "Accuracy: 0.904 (+/-0.020) for params: {'C': 100, 'kernel': 'linear'}\n",
      "\n",
      "\u001b[34m\n",
      "Best Estimator Params\u001b[0m\n",
      "\u001b[33mSVC(C=100, gamma=0.0001)\u001b[0m\n",
      "\u001b[34m\n",
      "Predictions:\u001b[0m\n",
      "['REAL' 'REAL' 'FAKE' ... 'REAL' 'REAL' 'FAKE']\n"
     ]
    },
    {
     "data": {
      "image/png": "[encoded data removed]",
      "text/plain": [
       "<Figure size 396x288 with 2 Axes>"
      ]
     },
     "metadata": {
      "needs_background": "light"
     },
     "output_type": "display_data"
    },
    {
     "name": "stdout",
     "output_type": "stream",
     "text": [
      "\u001b[34m\n",
      "Accuracy:\u001b[0m\n",
      "\u001b[32m0.9159090909090909\u001b[0m\n"
     ]
    }
   ],
   "source": [
    "SVC_pos_tag = runModel(encoder,\n",
    "               train_cv_vector,\n",
    "               train_cv_label,\n",
    "               train_holdout_vector,\n",
    "               train_holdout.label,\n",
    "               \"svc\",\n",
    "               \"SVC on pos-tagged text\")\n",
    "models.loc[len(models)] = SVC_pos_tag"
   ]
  },
  {
   "cell_type": "code",
   "execution_count": 46,
   "id": "cc349df0",
   "metadata": {},
   "outputs": [
    {
     "name": "stdout",
     "output_type": "stream",
     "text": [
      "\u001b[31mNaiive Bayes on pos-tagged text\u001b[0m\n",
      "\u001b[33mGridSearchCV(cv=ShuffleSplit(n_splits=5, random_state=12345, test_size=0.2, train_size=None),\n",
      "             estimator=MultinomialNB(), param_grid={})\u001b[0m\n",
      "\u001b[34m\n",
      "CV-scores\u001b[0m\n",
      "Accuracy: 0.889 (+/-0.017) for params: {}\n",
      "\n",
      "\u001b[34m\n",
      "Best Estimator Params\u001b[0m\n",
      "\u001b[33mMultinomialNB()\u001b[0m\n",
      "\u001b[34m\n",
      "Predictions:\u001b[0m\n",
      "['REAL' 'REAL' 'REAL' ... 'REAL' 'REAL' 'REAL']\n"
     ]
    },
    {
     "data": {
      "image/png": "[encoded data removed]",
      "text/plain": [
       "<Figure size 396x288 with 2 Axes>"
      ]
     },
     "metadata": {
      "needs_background": "light"
     },
     "output_type": "display_data"
    },
    {
     "name": "stdout",
     "output_type": "stream",
     "text": [
      "\u001b[34m\n",
      "Accuracy:\u001b[0m\n",
      "\u001b[32m0.8977272727272727\u001b[0m\n"
     ]
    }
   ],
   "source": [
    "NB_pos_tag = runModel(encoder,\n",
    "              train_cv_vector,\n",
    "              train_cv_label,\n",
    "              train_holdout_vector,\n",
    "              train_holdout.label,\n",
    "              \"nb\",\n",
    "              \"Naiive Bayes on pos-tagged text\")\n",
    "models.loc[len(models)] = NB_pos_tag"
   ]
  },
  {
   "cell_type": "code",
   "execution_count": 47,
   "id": "0a0dc8ad",
   "metadata": {},
   "outputs": [
    {
     "name": "stdout",
     "output_type": "stream",
     "text": [
      "\u001b[31mMaxEnt Classifier on pos-tagged text\u001b[0m\n",
      "\u001b[33mGridSearchCV(cv=ShuffleSplit(n_splits=5, random_state=12345, test_size=0.2, train_size=None),\n",
      "             estimator=LogisticRegression(),\n",
      "             param_grid={'C': [0.001, 0.01, 0.1, 1, 10, 100, 1000],\n",
      "                         'penalty': ['l1', 'l2']})\u001b[0m\n",
      "\u001b[34m\n",
      "CV-scores\u001b[0m\n",
      "Accuracy: nan (+/-nan) for params: {'C': 0.001, 'penalty': 'l1'}\n",
      "Accuracy: 0.885 (+/-0.012) for params: {'C': 0.001, 'penalty': 'l2'}\n",
      "Accuracy: nan (+/-nan) for params: {'C': 0.01, 'penalty': 'l1'}\n",
      "Accuracy: 0.917 (+/-0.018) for params: {'C': 0.01, 'penalty': 'l2'}\n",
      "Accuracy: nan (+/-nan) for params: {'C': 0.1, 'penalty': 'l1'}\n",
      "Accuracy: 0.930 (+/-0.023) for params: {'C': 0.1, 'penalty': 'l2'}\n",
      "Accuracy: nan (+/-nan) for params: {'C': 1, 'penalty': 'l1'}\n",
      "Accuracy: 0.931 (+/-0.027) for params: {'C': 1, 'penalty': 'l2'}\n",
      "Accuracy: nan (+/-nan) for params: {'C': 10, 'penalty': 'l1'}\n",
      "Accuracy: 0.929 (+/-0.026) for params: {'C': 10, 'penalty': 'l2'}\n",
      "Accuracy: nan (+/-nan) for params: {'C': 100, 'penalty': 'l1'}\n",
      "Accuracy: 0.930 (+/-0.025) for params: {'C': 100, 'penalty': 'l2'}\n",
      "Accuracy: nan (+/-nan) for params: {'C': 1000, 'penalty': 'l1'}\n",
      "Accuracy: 0.931 (+/-0.033) for params: {'C': 1000, 'penalty': 'l2'}\n",
      "\n",
      "\u001b[34m\n",
      "Best Estimator Params\u001b[0m\n",
      "\u001b[33mLogisticRegression(C=1)\u001b[0m\n",
      "\u001b[34m\n",
      "Predictions:\u001b[0m\n",
      "['REAL' 'REAL' 'FAKE' ... 'REAL' 'FAKE' 'REAL']\n"
     ]
    },
    {
     "data": {
      "image/png": "[encoded data removed]",
      "text/plain": [
       "<Figure size 396x288 with 2 Axes>"
      ]
     },
     "metadata": {
      "needs_background": "light"
     },
     "output_type": "display_data"
    },
    {
     "name": "stdout",
     "output_type": "stream",
     "text": [
      "\u001b[34m\n",
      "Accuracy:\u001b[0m\n",
      "\u001b[32m0.9295454545454546\u001b[0m\n"
     ]
    }
   ],
   "source": [
    "maxEnt_pos_tag = runModel(encoder,\n",
    "              train_cv_vector,\n",
    "              train_cv_label,\n",
    "              train_holdout_vector,\n",
    "              train_holdout.label,\n",
    "              \"maxEnt\",\n",
    "              \"MaxEnt Classifier on pos-tagged text\")\n",
    "models.loc[len(models)] = maxEnt_pos_tag"
   ]
  },
  {
   "cell_type": "code",
   "execution_count": 48,
   "id": "e27ca94d",
   "metadata": {},
   "outputs": [],
   "source": [
    "df[\"clean_and_pos_tagged_text\"] = df['preprocessed_text'] + ' ' + df['pos_tagged_text']"
   ]
  },
  {
   "cell_type": "code",
   "execution_count": 49,
   "id": "f350bb64",
   "metadata": {},
   "outputs": [
    {
     "data": {
      "text/html": [
       "<div>\n",
       "<style scoped>\n",
       "    .dataframe tbody tr th:only-of-type {\n",
       "        vertical-align: middle;\n",
       "    }\n",
       "\n",
       "    .dataframe tbody tr th {\n",
       "        vertical-align: top;\n",
       "    }\n",
       "\n",
       "    .dataframe thead th {\n",
       "        text-align: right;\n",
       "    }\n",
       "</style>\n",
       "<table border=\"1\" class=\"dataframe\">\n",
       "  <thead>\n",
       "    <tr style=\"text-align: right;\">\n",
       "      <th></th>\n",
       "      <th>ID</th>\n",
       "      <th>title</th>\n",
       "      <th>text</th>\n",
       "      <th>label</th>\n",
       "      <th>title_and_text</th>\n",
       "      <th>preprocessed_text</th>\n",
       "      <th>pos_tagged_text</th>\n",
       "      <th>clean_and_pos_tagged_text</th>\n",
       "    </tr>\n",
       "  </thead>\n",
       "  <tbody>\n",
       "    <tr>\n",
       "      <th>0</th>\n",
       "      <td>8476</td>\n",
       "      <td>You Can Smell Hillary’s Fear</td>\n",
       "      <td>Daniel Greenfield | a Shillman Journalism Fell...</td>\n",
       "      <td>FAKE</td>\n",
       "      <td>You Can Smell Hillary’s Fear Daniel Greenfield...</td>\n",
       "      <td>smell hillary’s fear daniel greenfield shillma...</td>\n",
       "      <td>NN-smell JJ-hillary NNP-’ NN-s NN-fear JJ-dani...</td>\n",
       "      <td>smell hillary’s fear daniel greenfield shillma...</td>\n",
       "    </tr>\n",
       "  </tbody>\n",
       "</table>\n",
       "</div>"
      ],
      "text/plain": [
       "     ID                         title  \\\n",
       "0  8476  You Can Smell Hillary’s Fear   \n",
       "\n",
       "                                                text label  \\\n",
       "0  Daniel Greenfield | a Shillman Journalism Fell...  FAKE   \n",
       "\n",
       "                                      title_and_text  \\\n",
       "0  You Can Smell Hillary’s Fear Daniel Greenfield...   \n",
       "\n",
       "                                   preprocessed_text  \\\n",
       "0  smell hillary’s fear daniel greenfield shillma...   \n",
       "\n",
       "                                     pos_tagged_text  \\\n",
       "0  NN-smell JJ-hillary NNP-’ NN-s NN-fear JJ-dani...   \n",
       "\n",
       "                           clean_and_pos_tagged_text  \n",
       "0  smell hillary’s fear daniel greenfield shillma...  "
      ]
     },
     "execution_count": 49,
     "metadata": {},
     "output_type": "execute_result"
    }
   ],
   "source": [
    "df.head(1)"
   ]
  },
  {
   "cell_type": "code",
   "execution_count": 50,
   "id": "a0097d0c",
   "metadata": {},
   "outputs": [],
   "source": [
    "encoder, train, test, train_cv, train_holdout, train_cv_label, train_holdout_label = split_train_holdout_test(encoder, df, False)\n",
    "\n",
    "count_vect = CountVectorizer(analyzer = \"word\")\n",
    "\n",
    "count_vectorizer = count_vect.fit(df.clean_and_pos_tagged_text)\n",
    "\n",
    "train_cv_vector = count_vectorizer.transform(train_cv.clean_and_pos_tagged_text)\n",
    "train_holdout_vector = count_vectorizer.transform(train_holdout.clean_and_pos_tagged_text)\n",
    "test_vector = count_vectorizer.transform(test.clean_and_pos_tagged_text)\n",
    "\n",
    "\n",
    "tf_idf = TfidfTransformer(norm=\"l2\")\n",
    "train_cv_tf_idf = tf_idf.fit_transform(train_cv_vector)\n",
    "train_holdout_tf_idf = tf_idf.fit_transform(train_holdout_vector)\n",
    "test_tf_idf = tf_idf.fit_transform(test_vector)  "
   ]
  },
  {
   "cell_type": "code",
   "execution_count": 51,
   "id": "d5a9512c",
   "metadata": {},
   "outputs": [
    {
     "name": "stdout",
     "output_type": "stream",
     "text": [
      "\u001b[31mSVC on preprocessed+pos-tagged TF-IDF weighted text\u001b[0m\n",
      "\u001b[33mGridSearchCV(cv=ShuffleSplit(n_splits=5, random_state=12345, test_size=0.2, train_size=None),\n",
      "             estimator=SVC(),\n",
      "             param_grid=[{'C': [1, 10, 50, 100], 'kernel': ['linear']},\n",
      "                         {'C': [10, 100, 500, 1000], 'gamma': [0.0001],\n",
      "                          'kernel': ['rbf']}])\u001b[0m\n",
      "\u001b[34m\n",
      "CV-scores\u001b[0m\n",
      "Accuracy: 0.937 (+/-0.024) for params: {'C': 10, 'kernel': 'linear'}\n",
      "Accuracy: 0.937 (+/-0.027) for params: {'C': 50, 'kernel': 'linear'}\n",
      "Accuracy: 0.937 (+/-0.027) for params: {'C': 100, 'kernel': 'linear'}\n",
      "Accuracy: 0.935 (+/-0.021) for params: {'C': 1, 'kernel': 'linear'}\n",
      "Accuracy: 0.895 (+/-0.009) for params: {'C': 1000, 'gamma': 0.0001, 'kernel': 'rbf'}\n",
      "Accuracy: 0.859 (+/-0.015) for params: {'C': 500, 'gamma': 0.0001, 'kernel': 'rbf'}\n",
      "Accuracy: 0.590 (+/-0.139) for params: {'C': 100, 'gamma': 0.0001, 'kernel': 'rbf'}\n",
      "Accuracy: 0.481 (+/-0.027) for params: {'C': 10, 'gamma': 0.0001, 'kernel': 'rbf'}\n",
      "\n",
      "\u001b[34m\n",
      "Best Estimator Params\u001b[0m\n",
      "\u001b[33mSVC(C=10, kernel='linear')\u001b[0m\n",
      "\u001b[34m\n",
      "Predictions:\u001b[0m\n",
      "['REAL' 'REAL' 'FAKE' ... 'REAL' 'FAKE' 'REAL']\n"
     ]
    },
    {
     "data": {
      "image/png": "[encoded data removed]",
      "text/plain": [
       "<Figure size 396x288 with 2 Axes>"
      ]
     },
     "metadata": {
      "needs_background": "light"
     },
     "output_type": "display_data"
    },
    {
     "name": "stdout",
     "output_type": "stream",
     "text": [
      "\u001b[34m\n",
      "Accuracy:\u001b[0m\n",
      "\u001b[32m0.9431818181818182\u001b[0m\n"
     ]
    }
   ],
   "source": [
    "SVC_tf_idf = runModel(encoder,\n",
    "               train_cv_tf_idf,\n",
    "               train_cv_label,\n",
    "               train_holdout_tf_idf,\n",
    "               train_holdout.label,\n",
    "               \"svc\",\n",
    "               \"SVC on preprocessed+pos-tagged TF-IDF weighted text\")\n",
    "models.loc[len(models)] = SVC_tf_idf"
   ]
  },
  {
   "cell_type": "code",
   "execution_count": 52,
   "id": "1c27f42e",
   "metadata": {},
   "outputs": [
    {
     "name": "stdout",
     "output_type": "stream",
     "text": [
      "\u001b[31mNaiive Bayes on preprocessed+pos-tagged TF-IDF weighted text\u001b[0m\n",
      "\u001b[33mGridSearchCV(cv=ShuffleSplit(n_splits=5, random_state=12345, test_size=0.2, train_size=None),\n",
      "             estimator=MultinomialNB(), param_grid={})\u001b[0m\n",
      "\u001b[34m\n",
      "CV-scores\u001b[0m\n",
      "Accuracy: 0.781 (+/-0.039) for params: {}\n",
      "\n",
      "\u001b[34m\n",
      "Best Estimator Params\u001b[0m\n",
      "\u001b[33mMultinomialNB()\u001b[0m\n",
      "\u001b[34m\n",
      "Predictions:\u001b[0m\n",
      "['REAL' 'REAL' 'REAL' ... 'REAL' 'REAL' 'REAL']\n"
     ]
    },
    {
     "data": {
      "image/png": "[encoded data removed]",
      "text/plain": [
       "<Figure size 396x288 with 2 Axes>"
      ]
     },
     "metadata": {
      "needs_background": "light"
     },
     "output_type": "display_data"
    },
    {
     "name": "stdout",
     "output_type": "stream",
     "text": [
      "\u001b[34m\n",
      "Accuracy:\u001b[0m\n",
      "\u001b[32m0.8166666666666667\u001b[0m\n"
     ]
    }
   ],
   "source": [
    "NB_tf_idf = runModel(encoder,\n",
    "               train_cv_tf_idf,\n",
    "               train_cv_label,\n",
    "               train_holdout_tf_idf,\n",
    "               train_holdout.label,\n",
    "              \"nb\",\n",
    "              \"Naiive Bayes on preprocessed+pos-tagged TF-IDF weighted text\")\n",
    "models.loc[len(models)] = NB_tf_idf"
   ]
  },
  {
   "cell_type": "code",
   "execution_count": 53,
   "id": "3464f2d1",
   "metadata": {},
   "outputs": [
    {
     "name": "stdout",
     "output_type": "stream",
     "text": [
      "\u001b[31mMaxEnt on preprocessed+pos-tagged TF-IDF weighted text\u001b[0m\n",
      "\u001b[33mGridSearchCV(cv=ShuffleSplit(n_splits=5, random_state=12345, test_size=0.2, train_size=None),\n",
      "             estimator=LogisticRegression(),\n",
      "             param_grid={'C': [0.001, 0.01, 0.1, 1, 10, 100, 1000],\n",
      "                         'penalty': ['l1', 'l2']})\u001b[0m\n",
      "\u001b[34m\n",
      "CV-scores\u001b[0m\n",
      "Accuracy: nan (+/-nan) for params: {'C': 0.001, 'penalty': 'l1'}\n",
      "Accuracy: 0.554 (+/-0.147) for params: {'C': 0.001, 'penalty': 'l2'}\n",
      "Accuracy: nan (+/-nan) for params: {'C': 0.01, 'penalty': 'l1'}\n",
      "Accuracy: 0.749 (+/-0.021) for params: {'C': 0.01, 'penalty': 'l2'}\n",
      "Accuracy: nan (+/-nan) for params: {'C': 0.1, 'penalty': 'l1'}\n",
      "Accuracy: 0.831 (+/-0.023) for params: {'C': 0.1, 'penalty': 'l2'}\n",
      "Accuracy: nan (+/-nan) for params: {'C': 1, 'penalty': 'l1'}\n",
      "Accuracy: 0.907 (+/-0.004) for params: {'C': 1, 'penalty': 'l2'}\n",
      "Accuracy: nan (+/-nan) for params: {'C': 10, 'penalty': 'l1'}\n",
      "Accuracy: 0.931 (+/-0.022) for params: {'C': 10, 'penalty': 'l2'}\n",
      "Accuracy: nan (+/-nan) for params: {'C': 100, 'penalty': 'l1'}\n",
      "Accuracy: 0.939 (+/-0.026) for params: {'C': 100, 'penalty': 'l2'}\n",
      "Accuracy: nan (+/-nan) for params: {'C': 1000, 'penalty': 'l1'}\n",
      "Accuracy: 0.943 (+/-0.029) for params: {'C': 1000, 'penalty': 'l2'}\n",
      "\n",
      "\u001b[34m\n",
      "Best Estimator Params\u001b[0m\n",
      "\u001b[33mLogisticRegression(C=1000)\u001b[0m\n",
      "\u001b[34m\n",
      "Predictions:\u001b[0m\n",
      "['REAL' 'REAL' 'FAKE' ... 'REAL' 'FAKE' 'REAL']\n"
     ]
    },
    {
     "data": {
      "image/png": "[encoded data removed]",
      "text/plain": [
       "<Figure size 396x288 with 2 Axes>"
      ]
     },
     "metadata": {
      "needs_background": "light"
     },
     "output_type": "display_data"
    },
    {
     "name": "stdout",
     "output_type": "stream",
     "text": [
      "\u001b[34m\n",
      "Accuracy:\u001b[0m\n",
      "\u001b[32m0.943939393939394\u001b[0m\n"
     ]
    }
   ],
   "source": [
    "maxEnt_tf_idf = runModel(encoder,\n",
    "               train_cv_tf_idf,\n",
    "               train_cv_label,\n",
    "               train_holdout_tf_idf,\n",
    "               train_holdout.label,\n",
    "              \"maxEnt\",\n",
    "              \"MaxEnt on preprocessed+pos-tagged TF-IDF weighted text\")\n",
    "models.loc[len(models)] = maxEnt_tf_idf"
   ]
  },
  {
   "cell_type": "code",
   "execution_count": 54,
   "id": "0ba67e85",
   "metadata": {},
   "outputs": [
    {
     "data": {
      "text/html": [
       "<div>\n",
       "<style scoped>\n",
       "    .dataframe tbody tr th:only-of-type {\n",
       "        vertical-align: middle;\n",
       "    }\n",
       "\n",
       "    .dataframe tbody tr th {\n",
       "        vertical-align: top;\n",
       "    }\n",
       "\n",
       "    .dataframe thead th {\n",
       "        text-align: right;\n",
       "    }\n",
       "</style>\n",
       "<table border=\"1\" class=\"dataframe\">\n",
       "  <thead>\n",
       "    <tr style=\"text-align: right;\">\n",
       "      <th></th>\n",
       "      <th>model_name</th>\n",
       "      <th>model_object</th>\n",
       "      <th>score</th>\n",
       "    </tr>\n",
       "  </thead>\n",
       "  <tbody>\n",
       "    <tr>\n",
       "      <th>0</th>\n",
       "      <td>&lt;class 'sklearn.svm._classes.SVC'&gt;</td>\n",
       "      <td>&lt;class 'sklearn.svm._classes.SVC'&gt;</td>\n",
       "      <td>&lt;class 'sklearn.svm._classes.SVC'&gt;</td>\n",
       "    </tr>\n",
       "    <tr>\n",
       "      <th>1</th>\n",
       "      <td>Baseline Model 2: Naiive Bayes</td>\n",
       "      <td>GridSearchCV(cv=ShuffleSplit(n_splits=5, rando...</td>\n",
       "      <td>0.894697</td>\n",
       "    </tr>\n",
       "    <tr>\n",
       "      <th>2</th>\n",
       "      <td>Baseline Model 3: MaxEnt Classifier</td>\n",
       "      <td>GridSearchCV(cv=ShuffleSplit(n_splits=5, rando...</td>\n",
       "      <td>0.923485</td>\n",
       "    </tr>\n",
       "    <tr>\n",
       "      <th>3</th>\n",
       "      <td>SVC on pos-tagged text</td>\n",
       "      <td>GridSearchCV(cv=ShuffleSplit(n_splits=5, rando...</td>\n",
       "      <td>0.915909</td>\n",
       "    </tr>\n",
       "    <tr>\n",
       "      <th>4</th>\n",
       "      <td>Naiive Bayes on pos-tagged text</td>\n",
       "      <td>GridSearchCV(cv=ShuffleSplit(n_splits=5, rando...</td>\n",
       "      <td>0.897727</td>\n",
       "    </tr>\n",
       "    <tr>\n",
       "      <th>5</th>\n",
       "      <td>MaxEnt Classifier on pos-tagged text</td>\n",
       "      <td>GridSearchCV(cv=ShuffleSplit(n_splits=5, rando...</td>\n",
       "      <td>0.929545</td>\n",
       "    </tr>\n",
       "    <tr>\n",
       "      <th>6</th>\n",
       "      <td>SVC on preprocessed+pos-tagged TF-IDF weighted...</td>\n",
       "      <td>GridSearchCV(cv=ShuffleSplit(n_splits=5, rando...</td>\n",
       "      <td>0.943182</td>\n",
       "    </tr>\n",
       "    <tr>\n",
       "      <th>7</th>\n",
       "      <td>Naiive Bayes on preprocessed+pos-tagged TF-IDF...</td>\n",
       "      <td>GridSearchCV(cv=ShuffleSplit(n_splits=5, rando...</td>\n",
       "      <td>0.816667</td>\n",
       "    </tr>\n",
       "    <tr>\n",
       "      <th>8</th>\n",
       "      <td>MaxEnt on preprocessed+pos-tagged TF-IDF weigh...</td>\n",
       "      <td>GridSearchCV(cv=ShuffleSplit(n_splits=5, rando...</td>\n",
       "      <td>0.943939</td>\n",
       "    </tr>\n",
       "  </tbody>\n",
       "</table>\n",
       "</div>"
      ],
      "text/plain": [
       "                                          model_name  \\\n",
       "0                 <class 'sklearn.svm._classes.SVC'>   \n",
       "1                     Baseline Model 2: Naiive Bayes   \n",
       "2                Baseline Model 3: MaxEnt Classifier   \n",
       "3                             SVC on pos-tagged text   \n",
       "4                    Naiive Bayes on pos-tagged text   \n",
       "5               MaxEnt Classifier on pos-tagged text   \n",
       "6  SVC on preprocessed+pos-tagged TF-IDF weighted...   \n",
       "7  Naiive Bayes on preprocessed+pos-tagged TF-IDF...   \n",
       "8  MaxEnt on preprocessed+pos-tagged TF-IDF weigh...   \n",
       "\n",
       "                                        model_object  \\\n",
       "0                 <class 'sklearn.svm._classes.SVC'>   \n",
       "1  GridSearchCV(cv=ShuffleSplit(n_splits=5, rando...   \n",
       "2  GridSearchCV(cv=ShuffleSplit(n_splits=5, rando...   \n",
       "3  GridSearchCV(cv=ShuffleSplit(n_splits=5, rando...   \n",
       "4  GridSearchCV(cv=ShuffleSplit(n_splits=5, rando...   \n",
       "5  GridSearchCV(cv=ShuffleSplit(n_splits=5, rando...   \n",
       "6  GridSearchCV(cv=ShuffleSplit(n_splits=5, rando...   \n",
       "7  GridSearchCV(cv=ShuffleSplit(n_splits=5, rando...   \n",
       "8  GridSearchCV(cv=ShuffleSplit(n_splits=5, rando...   \n",
       "\n",
       "                                score  \n",
       "0  <class 'sklearn.svm._classes.SVC'>  \n",
       "1                            0.894697  \n",
       "2                            0.923485  \n",
       "3                            0.915909  \n",
       "4                            0.897727  \n",
       "5                            0.929545  \n",
       "6                            0.943182  \n",
       "7                            0.816667  \n",
       "8                            0.943939  "
      ]
     },
     "execution_count": 54,
     "metadata": {},
     "output_type": "execute_result"
    }
   ],
   "source": [
    "models"
   ]
  },
  {
   "cell_type": "code",
   "execution_count": 55,
   "id": "05d6055a",
   "metadata": {},
   "outputs": [],
   "source": [
    "encoder, train, test, train_cv, train_holdout, train_cv_label, train_holdout_label = split_train_holdout_test(encoder, df, False)\n",
    "\n",
    "trigram_vect = CountVectorizer(analyzer = \"word\", ngram_range=(1,2))\n",
    "\n",
    "trigram_vect = count_vect.fit(df.clean_and_pos_tagged_text)\n",
    "\n",
    "train_cv_vector = trigram_vect.transform(train_cv.clean_and_pos_tagged_text)\n",
    "train_holdout_vector = trigram_vect.transform(train_holdout.clean_and_pos_tagged_text)\n",
    "test_vector = trigram_vect.transform(test.clean_and_pos_tagged_text)"
   ]
  },
  {
   "cell_type": "code",
   "execution_count": 56,
   "id": "18e0bb21",
   "metadata": {},
   "outputs": [],
   "source": [
    "tf_idf = TfidfTransformer(norm=\"l2\")\n",
    "train_cv_bigram_tf_idf = tf_idf.fit_transform(train_cv_vector)\n",
    "train_holdout_bigram_tf_idf = tf_idf.fit_transform(train_holdout_vector)\n",
    "test_bigram_tf_idf = tf_idf.fit_transform(test_vector)"
   ]
  },
  {
   "cell_type": "code",
   "execution_count": 57,
   "id": "0393370a",
   "metadata": {},
   "outputs": [
    {
     "name": "stdout",
     "output_type": "stream",
     "text": [
      "\u001b[31mSVC on bigram vect.+ TF-IDF\u001b[0m\n",
      "\u001b[33mGridSearchCV(cv=ShuffleSplit(n_splits=5, random_state=12345, test_size=0.2, train_size=None),\n",
      "             estimator=SVC(),\n",
      "             param_grid=[{'C': [1, 10, 50, 100], 'kernel': ['linear']},\n",
      "                         {'C': [10, 100, 500, 1000], 'gamma': [0.0001],\n",
      "                          'kernel': ['rbf']}])\u001b[0m\n",
      "\u001b[34m\n",
      "CV-scores\u001b[0m\n",
      "Accuracy: 0.937 (+/-0.024) for params: {'C': 10, 'kernel': 'linear'}\n",
      "Accuracy: 0.937 (+/-0.027) for params: {'C': 50, 'kernel': 'linear'}\n",
      "Accuracy: 0.937 (+/-0.027) for params: {'C': 100, 'kernel': 'linear'}\n",
      "Accuracy: 0.935 (+/-0.021) for params: {'C': 1, 'kernel': 'linear'}\n",
      "Accuracy: 0.895 (+/-0.009) for params: {'C': 1000, 'gamma': 0.0001, 'kernel': 'rbf'}\n",
      "Accuracy: 0.859 (+/-0.015) for params: {'C': 500, 'gamma': 0.0001, 'kernel': 'rbf'}\n",
      "Accuracy: 0.590 (+/-0.139) for params: {'C': 100, 'gamma': 0.0001, 'kernel': 'rbf'}\n",
      "Accuracy: 0.481 (+/-0.027) for params: {'C': 10, 'gamma': 0.0001, 'kernel': 'rbf'}\n",
      "\n",
      "\u001b[34m\n",
      "Best Estimator Params\u001b[0m\n",
      "\u001b[33mSVC(C=10, kernel='linear')\u001b[0m\n",
      "\u001b[34m\n",
      "Predictions:\u001b[0m\n",
      "['REAL' 'REAL' 'FAKE' ... 'REAL' 'FAKE' 'REAL']\n"
     ]
    },
    {
     "data": {
      "image/png": "[encoded data removed]",
      "text/plain": [
       "<Figure size 396x288 with 2 Axes>"
      ]
     },
     "metadata": {
      "needs_background": "light"
     },
     "output_type": "display_data"
    },
    {
     "name": "stdout",
     "output_type": "stream",
     "text": [
      "\u001b[34m\n",
      "Accuracy:\u001b[0m\n",
      "\u001b[32m0.9431818181818182\u001b[0m\n"
     ]
    }
   ],
   "source": [
    "SVC_trigram_tf_idf = runModel(encoder,\n",
    "               train_cv_bigram_tf_idf,\n",
    "               train_cv_label,\n",
    "               train_holdout_bigram_tf_idf,\n",
    "               train_holdout.label,\n",
    "               \"svc\",\n",
    "               \"SVC on bigram vect.+ TF-IDF\")\n",
    "models.loc[len(models)] = SVC_trigram_tf_idf"
   ]
  },
  {
   "cell_type": "code",
   "execution_count": 58,
   "id": "76845cb4",
   "metadata": {},
   "outputs": [],
   "source": [
    "encoder, train, test, train_cv, train_holdout, train_cv_label, train_holdout_label = split_train_holdout_test(encoder, df, False)\n",
    "\n",
    "trigram_vect = CountVectorizer(analyzer = \"word\", ngram_range=(1,3))\n",
    "\n",
    "trigram_vect = count_vect.fit(df.clean_and_pos_tagged_text)\n",
    "\n",
    "train_cv_vector = trigram_vect.transform(train_cv.clean_and_pos_tagged_text)\n",
    "train_holdout_vector = trigram_vect.transform(train_holdout.clean_and_pos_tagged_text)"
   ]
  },
  {
   "cell_type": "code",
   "execution_count": 59,
   "id": "1c405706",
   "metadata": {},
   "outputs": [],
   "source": [
    "tf_idf = TfidfTransformer(norm=\"l2\")\n",
    "train_cv_trigram_tf_idf = tf_idf.fit_transform(train_cv_vector)\n",
    "train_holdout_trigram_tf_idf = tf_idf.fit_transform(train_holdout_vector)"
   ]
  },
  {
   "cell_type": "code",
   "execution_count": 60,
   "id": "9f34fb80",
   "metadata": {},
   "outputs": [
    {
     "name": "stdout",
     "output_type": "stream",
     "text": [
      "\u001b[31mMaxEnt on trigram vect.+ TF-IDF\u001b[0m\n",
      "\u001b[33mGridSearchCV(cv=ShuffleSplit(n_splits=5, random_state=12345, test_size=0.2, train_size=None),\n",
      "             estimator=LogisticRegression(),\n",
      "             param_grid={'C': [0.001, 0.01, 0.1, 1, 10, 100, 1000],\n",
      "                         'penalty': ['l1', 'l2']})\u001b[0m\n",
      "\u001b[34m\n",
      "CV-scores\u001b[0m\n",
      "Accuracy: nan (+/-nan) for params: {'C': 0.001, 'penalty': 'l1'}\n",
      "Accuracy: 0.554 (+/-0.147) for params: {'C': 0.001, 'penalty': 'l2'}\n",
      "Accuracy: nan (+/-nan) for params: {'C': 0.01, 'penalty': 'l1'}\n",
      "Accuracy: 0.749 (+/-0.021) for params: {'C': 0.01, 'penalty': 'l2'}\n",
      "Accuracy: nan (+/-nan) for params: {'C': 0.1, 'penalty': 'l1'}\n",
      "Accuracy: 0.831 (+/-0.023) for params: {'C': 0.1, 'penalty': 'l2'}\n",
      "Accuracy: nan (+/-nan) for params: {'C': 1, 'penalty': 'l1'}\n",
      "Accuracy: 0.907 (+/-0.004) for params: {'C': 1, 'penalty': 'l2'}\n",
      "Accuracy: nan (+/-nan) for params: {'C': 10, 'penalty': 'l1'}\n",
      "Accuracy: 0.931 (+/-0.022) for params: {'C': 10, 'penalty': 'l2'}\n",
      "Accuracy: nan (+/-nan) for params: {'C': 100, 'penalty': 'l1'}\n",
      "Accuracy: 0.939 (+/-0.026) for params: {'C': 100, 'penalty': 'l2'}\n",
      "Accuracy: nan (+/-nan) for params: {'C': 1000, 'penalty': 'l1'}\n",
      "Accuracy: 0.943 (+/-0.029) for params: {'C': 1000, 'penalty': 'l2'}\n",
      "\n",
      "\u001b[34m\n",
      "Best Estimator Params\u001b[0m\n",
      "\u001b[33mLogisticRegression(C=1000)\u001b[0m\n",
      "\u001b[34m\n",
      "Predictions:\u001b[0m\n",
      "['REAL' 'REAL' 'FAKE' ... 'REAL' 'FAKE' 'REAL']\n"
     ]
    },
    {
     "data": {
      "image/png": "[encoded data removed]",
      "text/plain": [
       "<Figure size 396x288 with 2 Axes>"
      ]
     },
     "metadata": {
      "needs_background": "light"
     },
     "output_type": "display_data"
    },
    {
     "name": "stdout",
     "output_type": "stream",
     "text": [
      "\u001b[34m\n",
      "Accuracy:\u001b[0m\n",
      "\u001b[32m0.9431818181818182\u001b[0m\n"
     ]
    }
   ],
   "source": [
    "maxEnt_tf_idf = runModel(encoder,\n",
    "               train_cv_trigram_tf_idf,\n",
    "               train_cv_label,\n",
    "               train_holdout_trigram_tf_idf,\n",
    "               train_holdout.label,\n",
    "              \"maxEnt\",\n",
    "              \"MaxEnt on trigram vect.+ TF-IDF\")\n",
    "models.loc[len(models)] = maxEnt_tf_idf"
   ]
  },
  {
   "cell_type": "code",
   "execution_count": 61,
   "id": "a17faa4a",
   "metadata": {},
   "outputs": [
    {
     "data": {
      "text/html": [
       "<div>\n",
       "<style scoped>\n",
       "    .dataframe tbody tr th:only-of-type {\n",
       "        vertical-align: middle;\n",
       "    }\n",
       "\n",
       "    .dataframe tbody tr th {\n",
       "        vertical-align: top;\n",
       "    }\n",
       "\n",
       "    .dataframe thead th {\n",
       "        text-align: right;\n",
       "    }\n",
       "</style>\n",
       "<table border=\"1\" class=\"dataframe\">\n",
       "  <thead>\n",
       "    <tr style=\"text-align: right;\">\n",
       "      <th></th>\n",
       "      <th>model_name</th>\n",
       "      <th>model_object</th>\n",
       "      <th>score</th>\n",
       "    </tr>\n",
       "  </thead>\n",
       "  <tbody>\n",
       "    <tr>\n",
       "      <th>0</th>\n",
       "      <td>&lt;class 'sklearn.svm._classes.SVC'&gt;</td>\n",
       "      <td>&lt;class 'sklearn.svm._classes.SVC'&gt;</td>\n",
       "      <td>&lt;class 'sklearn.svm._classes.SVC'&gt;</td>\n",
       "    </tr>\n",
       "    <tr>\n",
       "      <th>1</th>\n",
       "      <td>Baseline Model 2: Naiive Bayes</td>\n",
       "      <td>GridSearchCV(cv=ShuffleSplit(n_splits=5, rando...</td>\n",
       "      <td>0.894697</td>\n",
       "    </tr>\n",
       "    <tr>\n",
       "      <th>2</th>\n",
       "      <td>Baseline Model 3: MaxEnt Classifier</td>\n",
       "      <td>GridSearchCV(cv=ShuffleSplit(n_splits=5, rando...</td>\n",
       "      <td>0.923485</td>\n",
       "    </tr>\n",
       "    <tr>\n",
       "      <th>3</th>\n",
       "      <td>SVC on pos-tagged text</td>\n",
       "      <td>GridSearchCV(cv=ShuffleSplit(n_splits=5, rando...</td>\n",
       "      <td>0.915909</td>\n",
       "    </tr>\n",
       "    <tr>\n",
       "      <th>4</th>\n",
       "      <td>Naiive Bayes on pos-tagged text</td>\n",
       "      <td>GridSearchCV(cv=ShuffleSplit(n_splits=5, rando...</td>\n",
       "      <td>0.897727</td>\n",
       "    </tr>\n",
       "    <tr>\n",
       "      <th>5</th>\n",
       "      <td>MaxEnt Classifier on pos-tagged text</td>\n",
       "      <td>GridSearchCV(cv=ShuffleSplit(n_splits=5, rando...</td>\n",
       "      <td>0.929545</td>\n",
       "    </tr>\n",
       "    <tr>\n",
       "      <th>6</th>\n",
       "      <td>SVC on preprocessed+pos-tagged TF-IDF weighted...</td>\n",
       "      <td>GridSearchCV(cv=ShuffleSplit(n_splits=5, rando...</td>\n",
       "      <td>0.943182</td>\n",
       "    </tr>\n",
       "    <tr>\n",
       "      <th>7</th>\n",
       "      <td>Naiive Bayes on preprocessed+pos-tagged TF-IDF...</td>\n",
       "      <td>GridSearchCV(cv=ShuffleSplit(n_splits=5, rando...</td>\n",
       "      <td>0.816667</td>\n",
       "    </tr>\n",
       "    <tr>\n",
       "      <th>8</th>\n",
       "      <td>MaxEnt on preprocessed+pos-tagged TF-IDF weigh...</td>\n",
       "      <td>GridSearchCV(cv=ShuffleSplit(n_splits=5, rando...</td>\n",
       "      <td>0.943939</td>\n",
       "    </tr>\n",
       "    <tr>\n",
       "      <th>9</th>\n",
       "      <td>SVC on bigram vect.+ TF-IDF</td>\n",
       "      <td>GridSearchCV(cv=ShuffleSplit(n_splits=5, rando...</td>\n",
       "      <td>0.943182</td>\n",
       "    </tr>\n",
       "    <tr>\n",
       "      <th>10</th>\n",
       "      <td>MaxEnt on trigram vect.+ TF-IDF</td>\n",
       "      <td>GridSearchCV(cv=ShuffleSplit(n_splits=5, rando...</td>\n",
       "      <td>0.943182</td>\n",
       "    </tr>\n",
       "  </tbody>\n",
       "</table>\n",
       "</div>"
      ],
      "text/plain": [
       "                                           model_name  \\\n",
       "0                  <class 'sklearn.svm._classes.SVC'>   \n",
       "1                      Baseline Model 2: Naiive Bayes   \n",
       "2                 Baseline Model 3: MaxEnt Classifier   \n",
       "3                              SVC on pos-tagged text   \n",
       "4                     Naiive Bayes on pos-tagged text   \n",
       "5                MaxEnt Classifier on pos-tagged text   \n",
       "6   SVC on preprocessed+pos-tagged TF-IDF weighted...   \n",
       "7   Naiive Bayes on preprocessed+pos-tagged TF-IDF...   \n",
       "8   MaxEnt on preprocessed+pos-tagged TF-IDF weigh...   \n",
       "9                         SVC on bigram vect.+ TF-IDF   \n",
       "10                    MaxEnt on trigram vect.+ TF-IDF   \n",
       "\n",
       "                                         model_object  \\\n",
       "0                  <class 'sklearn.svm._classes.SVC'>   \n",
       "1   GridSearchCV(cv=ShuffleSplit(n_splits=5, rando...   \n",
       "2   GridSearchCV(cv=ShuffleSplit(n_splits=5, rando...   \n",
       "3   GridSearchCV(cv=ShuffleSplit(n_splits=5, rando...   \n",
       "4   GridSearchCV(cv=ShuffleSplit(n_splits=5, rando...   \n",
       "5   GridSearchCV(cv=ShuffleSplit(n_splits=5, rando...   \n",
       "6   GridSearchCV(cv=ShuffleSplit(n_splits=5, rando...   \n",
       "7   GridSearchCV(cv=ShuffleSplit(n_splits=5, rando...   \n",
       "8   GridSearchCV(cv=ShuffleSplit(n_splits=5, rando...   \n",
       "9   GridSearchCV(cv=ShuffleSplit(n_splits=5, rando...   \n",
       "10  GridSearchCV(cv=ShuffleSplit(n_splits=5, rando...   \n",
       "\n",
       "                                 score  \n",
       "0   <class 'sklearn.svm._classes.SVC'>  \n",
       "1                             0.894697  \n",
       "2                             0.923485  \n",
       "3                             0.915909  \n",
       "4                             0.897727  \n",
       "5                             0.929545  \n",
       "6                             0.943182  \n",
       "7                             0.816667  \n",
       "8                             0.943939  \n",
       "9                             0.943182  \n",
       "10                            0.943182  "
      ]
     },
     "execution_count": 61,
     "metadata": {},
     "output_type": "execute_result"
    }
   ],
   "source": [
    "models"
   ]
  },
  {
   "cell_type": "code",
   "execution_count": 62,
   "id": "ed79f48a",
   "metadata": {},
   "outputs": [],
   "source": [
    "test = pd.read_csv(\"fake_or_real_news_test.csv\")\n",
    "train = pd.read_csv(\"fake_or_real_news_training_CLEANED.csv\")"
   ]
  },
  {
   "cell_type": "code",
   "execution_count": 63,
   "id": "772d5830",
   "metadata": {},
   "outputs": [],
   "source": [
    "train['title_and_text'] = train['title'] +' '+ train['text']\n",
    "train['preprocessed_text'] = train['title_and_text'].apply(lambda x: preprocess(x))"
   ]
  },
  {
   "cell_type": "code",
   "execution_count": 64,
   "id": "33cb1284",
   "metadata": {},
   "outputs": [],
   "source": [
    "test['title_and_text'] = test['title'] +' '+ test['text']\n",
    "test['preprocessed_text'] = test['title_and_text'].apply(lambda x: preprocess(x))"
   ]
  },
  {
   "cell_type": "code",
   "execution_count": 65,
   "id": "7a723663",
   "metadata": {},
   "outputs": [
    {
     "data": {
      "text/html": [
       "<div>\n",
       "<style scoped>\n",
       "    .dataframe tbody tr th:only-of-type {\n",
       "        vertical-align: middle;\n",
       "    }\n",
       "\n",
       "    .dataframe tbody tr th {\n",
       "        vertical-align: top;\n",
       "    }\n",
       "\n",
       "    .dataframe thead th {\n",
       "        text-align: right;\n",
       "    }\n",
       "</style>\n",
       "<table border=\"1\" class=\"dataframe\">\n",
       "  <thead>\n",
       "    <tr style=\"text-align: right;\">\n",
       "      <th></th>\n",
       "      <th>ID</th>\n",
       "      <th>title</th>\n",
       "      <th>text</th>\n",
       "      <th>title_and_text</th>\n",
       "      <th>preprocessed_text</th>\n",
       "    </tr>\n",
       "  </thead>\n",
       "  <tbody>\n",
       "    <tr>\n",
       "      <th>0</th>\n",
       "      <td>10498</td>\n",
       "      <td>September New Homes Sales Rise——-Back To 1992 ...</td>\n",
       "      <td>September New Homes Sales Rise Back To 1992 Le...</td>\n",
       "      <td>September New Homes Sales Rise——-Back To 1992 ...</td>\n",
       "      <td>september new home sale rise——-back level sept...</td>\n",
       "    </tr>\n",
       "    <tr>\n",
       "      <th>1</th>\n",
       "      <td>2439</td>\n",
       "      <td>Why The Obamacare Doomsday Cult Can't Admit It...</td>\n",
       "      <td>But when Congress debated and passed the Patie...</td>\n",
       "      <td>Why The Obamacare Doomsday Cult Can't Admit It...</td>\n",
       "      <td>obamacare doomsday cult can't admit wrong cong...</td>\n",
       "    </tr>\n",
       "    <tr>\n",
       "      <th>2</th>\n",
       "      <td>864</td>\n",
       "      <td>Sanders, Cruz resist pressure after NY losses,...</td>\n",
       "      <td>The Bernie Sanders and Ted Cruz campaigns vowe...</td>\n",
       "      <td>Sanders, Cruz resist pressure after NY losses,...</td>\n",
       "      <td>sander cruz resist pressure ny loss vow fight ...</td>\n",
       "    </tr>\n",
       "    <tr>\n",
       "      <th>3</th>\n",
       "      <td>4128</td>\n",
       "      <td>Surviving escaped prisoner likely fatigued and...</td>\n",
       "      <td>Police searching for the second of two escaped...</td>\n",
       "      <td>Surviving escaped prisoner likely fatigued and...</td>\n",
       "      <td>survive escape prisoner likely fatigue prone m...</td>\n",
       "    </tr>\n",
       "    <tr>\n",
       "      <th>4</th>\n",
       "      <td>662</td>\n",
       "      <td>Clinton and Sanders neck and neck in Californi...</td>\n",
       "      <td>No matter who wins California's 475 delegates ...</td>\n",
       "      <td>Clinton and Sanders neck and neck in Californi...</td>\n",
       "      <td>clinton sander neck neck california primary ma...</td>\n",
       "    </tr>\n",
       "  </tbody>\n",
       "</table>\n",
       "</div>"
      ],
      "text/plain": [
       "      ID                                              title  \\\n",
       "0  10498  September New Homes Sales Rise——-Back To 1992 ...   \n",
       "1   2439  Why The Obamacare Doomsday Cult Can't Admit It...   \n",
       "2    864  Sanders, Cruz resist pressure after NY losses,...   \n",
       "3   4128  Surviving escaped prisoner likely fatigued and...   \n",
       "4    662  Clinton and Sanders neck and neck in Californi...   \n",
       "\n",
       "                                                text  \\\n",
       "0  September New Homes Sales Rise Back To 1992 Le...   \n",
       "1  But when Congress debated and passed the Patie...   \n",
       "2  The Bernie Sanders and Ted Cruz campaigns vowe...   \n",
       "3  Police searching for the second of two escaped...   \n",
       "4  No matter who wins California's 475 delegates ...   \n",
       "\n",
       "                                      title_and_text  \\\n",
       "0  September New Homes Sales Rise——-Back To 1992 ...   \n",
       "1  Why The Obamacare Doomsday Cult Can't Admit It...   \n",
       "2  Sanders, Cruz resist pressure after NY losses,...   \n",
       "3  Surviving escaped prisoner likely fatigued and...   \n",
       "4  Clinton and Sanders neck and neck in Californi...   \n",
       "\n",
       "                                   preprocessed_text  \n",
       "0  september new home sale rise——-back level sept...  \n",
       "1  obamacare doomsday cult can't admit wrong cong...  \n",
       "2  sander cruz resist pressure ny loss vow fight ...  \n",
       "3  survive escape prisoner likely fatigue prone m...  \n",
       "4  clinton sander neck neck california primary ma...  "
      ]
     },
     "execution_count": 65,
     "metadata": {},
     "output_type": "execute_result"
    }
   ],
   "source": [
    "test.head()"
   ]
  },
  {
   "cell_type": "code",
   "execution_count": 66,
   "id": "8829bde6",
   "metadata": {},
   "outputs": [],
   "source": [
    "train.to_csv(\"fake_or_real_news_train_PREPROCESSED.csv\", index=False)"
   ]
  },
  {
   "cell_type": "code",
   "execution_count": 67,
   "id": "bfdc2746",
   "metadata": {},
   "outputs": [],
   "source": [
    "test.to_csv(\"fake_or_real_news_test_PREPROCESSED.csv\", index=False)"
   ]
  },
  {
   "cell_type": "code",
   "execution_count": 68,
   "id": "5979d666",
   "metadata": {},
   "outputs": [],
   "source": [
    "train = pd.read_csv(\"fake_or_real_news_train_PREPROCESSED.csv\")\n",
    "train = train.astype(object).replace(np.nan, 'None')\n",
    "\n",
    "test = pd.read_csv(\"fake_or_real_news_test_PREPROCESSED.csv\")\n",
    "test = test.astype(object).replace(np.nan, 'None')"
   ]
  },
  {
   "cell_type": "code",
   "execution_count": 69,
   "id": "24f0efdc",
   "metadata": {},
   "outputs": [],
   "source": [
    "test = test.astype(object).replace(np.nan, 'None')"
   ]
  },
  {
   "cell_type": "code",
   "execution_count": 70,
   "id": "0913eae9",
   "metadata": {},
   "outputs": [
    {
     "data": {
      "text/html": [
       "<div>\n",
       "<style scoped>\n",
       "    .dataframe tbody tr th:only-of-type {\n",
       "        vertical-align: middle;\n",
       "    }\n",
       "\n",
       "    .dataframe tbody tr th {\n",
       "        vertical-align: top;\n",
       "    }\n",
       "\n",
       "    .dataframe thead th {\n",
       "        text-align: right;\n",
       "    }\n",
       "</style>\n",
       "<table border=\"1\" class=\"dataframe\">\n",
       "  <thead>\n",
       "    <tr style=\"text-align: right;\">\n",
       "      <th></th>\n",
       "      <th>ID</th>\n",
       "      <th>title</th>\n",
       "      <th>text</th>\n",
       "      <th>title_and_text</th>\n",
       "      <th>preprocessed_text</th>\n",
       "    </tr>\n",
       "  </thead>\n",
       "  <tbody>\n",
       "    <tr>\n",
       "      <th>0</th>\n",
       "      <td>10498</td>\n",
       "      <td>September New Homes Sales Rise——-Back To 1992 ...</td>\n",
       "      <td>September New Homes Sales Rise Back To 1992 Le...</td>\n",
       "      <td>September New Homes Sales Rise——-Back To 1992 ...</td>\n",
       "      <td>september new home sale rise——-back level sept...</td>\n",
       "    </tr>\n",
       "    <tr>\n",
       "      <th>1</th>\n",
       "      <td>2439</td>\n",
       "      <td>Why The Obamacare Doomsday Cult Can't Admit It...</td>\n",
       "      <td>But when Congress debated and passed the Patie...</td>\n",
       "      <td>Why The Obamacare Doomsday Cult Can't Admit It...</td>\n",
       "      <td>obamacare doomsday cult can't admit wrong cong...</td>\n",
       "    </tr>\n",
       "    <tr>\n",
       "      <th>2</th>\n",
       "      <td>864</td>\n",
       "      <td>Sanders, Cruz resist pressure after NY losses,...</td>\n",
       "      <td>The Bernie Sanders and Ted Cruz campaigns vowe...</td>\n",
       "      <td>Sanders, Cruz resist pressure after NY losses,...</td>\n",
       "      <td>sander cruz resist pressure ny loss vow fight ...</td>\n",
       "    </tr>\n",
       "    <tr>\n",
       "      <th>3</th>\n",
       "      <td>4128</td>\n",
       "      <td>Surviving escaped prisoner likely fatigued and...</td>\n",
       "      <td>Police searching for the second of two escaped...</td>\n",
       "      <td>Surviving escaped prisoner likely fatigued and...</td>\n",
       "      <td>survive escape prisoner likely fatigue prone m...</td>\n",
       "    </tr>\n",
       "    <tr>\n",
       "      <th>4</th>\n",
       "      <td>662</td>\n",
       "      <td>Clinton and Sanders neck and neck in Californi...</td>\n",
       "      <td>No matter who wins California's 475 delegates ...</td>\n",
       "      <td>Clinton and Sanders neck and neck in Californi...</td>\n",
       "      <td>clinton sander neck neck california primary ma...</td>\n",
       "    </tr>\n",
       "  </tbody>\n",
       "</table>\n",
       "</div>"
      ],
      "text/plain": [
       "      ID                                              title  \\\n",
       "0  10498  September New Homes Sales Rise——-Back To 1992 ...   \n",
       "1   2439  Why The Obamacare Doomsday Cult Can't Admit It...   \n",
       "2    864  Sanders, Cruz resist pressure after NY losses,...   \n",
       "3   4128  Surviving escaped prisoner likely fatigued and...   \n",
       "4    662  Clinton and Sanders neck and neck in Californi...   \n",
       "\n",
       "                                                text  \\\n",
       "0  September New Homes Sales Rise Back To 1992 Le...   \n",
       "1  But when Congress debated and passed the Patie...   \n",
       "2  The Bernie Sanders and Ted Cruz campaigns vowe...   \n",
       "3  Police searching for the second of two escaped...   \n",
       "4  No matter who wins California's 475 delegates ...   \n",
       "\n",
       "                                      title_and_text  \\\n",
       "0  September New Homes Sales Rise——-Back To 1992 ...   \n",
       "1  Why The Obamacare Doomsday Cult Can't Admit It...   \n",
       "2  Sanders, Cruz resist pressure after NY losses,...   \n",
       "3  Surviving escaped prisoner likely fatigued and...   \n",
       "4  Clinton and Sanders neck and neck in Californi...   \n",
       "\n",
       "                                   preprocessed_text  \n",
       "0  september new home sale rise——-back level sept...  \n",
       "1  obamacare doomsday cult can't admit wrong cong...  \n",
       "2  sander cruz resist pressure ny loss vow fight ...  \n",
       "3  survive escape prisoner likely fatigue prone m...  \n",
       "4  clinton sander neck neck california primary ma...  "
      ]
     },
     "execution_count": 70,
     "metadata": {},
     "output_type": "execute_result"
    }
   ],
   "source": [
    "test.head()"
   ]
  },
  {
   "cell_type": "code",
   "execution_count": 71,
   "id": "62a93cb7",
   "metadata": {},
   "outputs": [
    {
     "data": {
      "text/html": [
       "<div>\n",
       "<style scoped>\n",
       "    .dataframe tbody tr th:only-of-type {\n",
       "        vertical-align: middle;\n",
       "    }\n",
       "\n",
       "    .dataframe tbody tr th {\n",
       "        vertical-align: top;\n",
       "    }\n",
       "\n",
       "    .dataframe thead th {\n",
       "        text-align: right;\n",
       "    }\n",
       "</style>\n",
       "<table border=\"1\" class=\"dataframe\">\n",
       "  <thead>\n",
       "    <tr style=\"text-align: right;\">\n",
       "      <th></th>\n",
       "      <th>ID</th>\n",
       "      <th>title</th>\n",
       "      <th>text</th>\n",
       "      <th>label</th>\n",
       "      <th>X1</th>\n",
       "      <th>X2</th>\n",
       "      <th>title_and_text</th>\n",
       "      <th>preprocessed_text</th>\n",
       "    </tr>\n",
       "  </thead>\n",
       "  <tbody>\n",
       "    <tr>\n",
       "      <th>0</th>\n",
       "      <td>8476</td>\n",
       "      <td>You Can Smell Hillary’s Fear</td>\n",
       "      <td>Daniel Greenfield | a Shillman Journalism Fell...</td>\n",
       "      <td>FAKE</td>\n",
       "      <td>None</td>\n",
       "      <td>None</td>\n",
       "      <td>You Can Smell Hillary’s Fear Daniel Greenfield...</td>\n",
       "      <td>smell hillary’s fear daniel greenfield shillma...</td>\n",
       "    </tr>\n",
       "    <tr>\n",
       "      <th>1</th>\n",
       "      <td>10294</td>\n",
       "      <td>Watch The Exact Moment Paul Ryan Committed Pol...</td>\n",
       "      <td>Google Pinterest Digg Linkedin Reddit Stumbleu...</td>\n",
       "      <td>FAKE</td>\n",
       "      <td>None</td>\n",
       "      <td>None</td>\n",
       "      <td>Watch The Exact Moment Paul Ryan Committed Pol...</td>\n",
       "      <td>watch exact moment paul ryan commit political ...</td>\n",
       "    </tr>\n",
       "    <tr>\n",
       "      <th>2</th>\n",
       "      <td>3608</td>\n",
       "      <td>Kerry to go to Paris in gesture of sympathy</td>\n",
       "      <td>U.S. Secretary of State John F. Kerry said Mon...</td>\n",
       "      <td>REAL</td>\n",
       "      <td>None</td>\n",
       "      <td>None</td>\n",
       "      <td>Kerry to go to Paris in gesture of sympathy U....</td>\n",
       "      <td>kerry go paris gesture sympathy u.s secretary ...</td>\n",
       "    </tr>\n",
       "    <tr>\n",
       "      <th>3</th>\n",
       "      <td>10142</td>\n",
       "      <td>Bernie supporters on Twitter erupt in anger ag...</td>\n",
       "      <td>— Kaydee King (@KaydeeKing) November 9 | 2016 ...</td>\n",
       "      <td>FAKE</td>\n",
       "      <td>None</td>\n",
       "      <td>None</td>\n",
       "      <td>Bernie supporters on Twitter erupt in anger ag...</td>\n",
       "      <td>bernie supporter twitter erupt anger dnc try w...</td>\n",
       "    </tr>\n",
       "    <tr>\n",
       "      <th>4</th>\n",
       "      <td>875</td>\n",
       "      <td>The Battle of New York: Why This Primary Matte...</td>\n",
       "      <td>Cruz promised his supporters. \"\"We're beating...</td>\n",
       "      <td>REAL</td>\n",
       "      <td>None</td>\n",
       "      <td>None</td>\n",
       "      <td>The Battle of New York: Why This Primary Matte...</td>\n",
       "      <td>battle new york primary matter primary day new...</td>\n",
       "    </tr>\n",
       "  </tbody>\n",
       "</table>\n",
       "</div>"
      ],
      "text/plain": [
       "      ID                                              title  \\\n",
       "0   8476                       You Can Smell Hillary’s Fear   \n",
       "1  10294  Watch The Exact Moment Paul Ryan Committed Pol...   \n",
       "2   3608        Kerry to go to Paris in gesture of sympathy   \n",
       "3  10142  Bernie supporters on Twitter erupt in anger ag...   \n",
       "4    875  The Battle of New York: Why This Primary Matte...   \n",
       "\n",
       "                                                text label    X1    X2  \\\n",
       "0  Daniel Greenfield | a Shillman Journalism Fell...  FAKE  None  None   \n",
       "1  Google Pinterest Digg Linkedin Reddit Stumbleu...  FAKE  None  None   \n",
       "2  U.S. Secretary of State John F. Kerry said Mon...  REAL  None  None   \n",
       "3  — Kaydee King (@KaydeeKing) November 9 | 2016 ...  FAKE  None  None   \n",
       "4   Cruz promised his supporters. \"\"We're beating...  REAL  None  None   \n",
       "\n",
       "                                      title_and_text  \\\n",
       "0  You Can Smell Hillary’s Fear Daniel Greenfield...   \n",
       "1  Watch The Exact Moment Paul Ryan Committed Pol...   \n",
       "2  Kerry to go to Paris in gesture of sympathy U....   \n",
       "3  Bernie supporters on Twitter erupt in anger ag...   \n",
       "4  The Battle of New York: Why This Primary Matte...   \n",
       "\n",
       "                                   preprocessed_text  \n",
       "0  smell hillary’s fear daniel greenfield shillma...  \n",
       "1  watch exact moment paul ryan commit political ...  \n",
       "2  kerry go paris gesture sympathy u.s secretary ...  \n",
       "3  bernie supporter twitter erupt anger dnc try w...  \n",
       "4  battle new york primary matter primary day new...  "
      ]
     },
     "execution_count": 71,
     "metadata": {},
     "output_type": "execute_result"
    }
   ],
   "source": [
    "train.head()"
   ]
  },
  {
   "cell_type": "code",
   "execution_count": 72,
   "id": "e75e69ee",
   "metadata": {},
   "outputs": [],
   "source": [
    "train['pos_tagged_text'] = train['preprocessed_text'].apply(lambda x: pos_tag_words(x))\n",
    "test['pos_tagged_text'] = test['preprocessed_text'].apply(lambda x: pos_tag_words(x))"
   ]
  },
  {
   "cell_type": "code",
   "execution_count": 73,
   "id": "b3f4ffc7",
   "metadata": {},
   "outputs": [],
   "source": [
    "train[\"clean_and_pos_tagged_text\"] = train['preprocessed_text'] + ' ' + train['pos_tagged_text']\n",
    "test[\"clean_and_pos_tagged_text\"] = test['preprocessed_text'] + ' ' + train['pos_tagged_text']"
   ]
  },
  {
   "cell_type": "code",
   "execution_count": 74,
   "id": "26b587cc",
   "metadata": {},
   "outputs": [
    {
     "data": {
      "text/html": [
       "<div>\n",
       "<style scoped>\n",
       "    .dataframe tbody tr th:only-of-type {\n",
       "        vertical-align: middle;\n",
       "    }\n",
       "\n",
       "    .dataframe tbody tr th {\n",
       "        vertical-align: top;\n",
       "    }\n",
       "\n",
       "    .dataframe thead th {\n",
       "        text-align: right;\n",
       "    }\n",
       "</style>\n",
       "<table border=\"1\" class=\"dataframe\">\n",
       "  <thead>\n",
       "    <tr style=\"text-align: right;\">\n",
       "      <th></th>\n",
       "      <th>ID</th>\n",
       "      <th>title</th>\n",
       "      <th>text</th>\n",
       "      <th>title_and_text</th>\n",
       "      <th>preprocessed_text</th>\n",
       "      <th>pos_tagged_text</th>\n",
       "      <th>clean_and_pos_tagged_text</th>\n",
       "    </tr>\n",
       "  </thead>\n",
       "  <tbody>\n",
       "    <tr>\n",
       "      <th>0</th>\n",
       "      <td>10498</td>\n",
       "      <td>September New Homes Sales Rise——-Back To 1992 ...</td>\n",
       "      <td>September New Homes Sales Rise Back To 1992 Le...</td>\n",
       "      <td>September New Homes Sales Rise——-Back To 1992 ...</td>\n",
       "      <td>september new home sale rise——-back level sept...</td>\n",
       "      <td>VB-september JJ-new NN-home NN-sale JJ-rise——-...</td>\n",
       "      <td>september new home sale rise——-back level sept...</td>\n",
       "    </tr>\n",
       "  </tbody>\n",
       "</table>\n",
       "</div>"
      ],
      "text/plain": [
       "      ID                                              title  \\\n",
       "0  10498  September New Homes Sales Rise——-Back To 1992 ...   \n",
       "\n",
       "                                                text  \\\n",
       "0  September New Homes Sales Rise Back To 1992 Le...   \n",
       "\n",
       "                                      title_and_text  \\\n",
       "0  September New Homes Sales Rise——-Back To 1992 ...   \n",
       "\n",
       "                                   preprocessed_text  \\\n",
       "0  september new home sale rise——-back level sept...   \n",
       "\n",
       "                                     pos_tagged_text  \\\n",
       "0  VB-september JJ-new NN-home NN-sale JJ-rise——-...   \n",
       "\n",
       "                           clean_and_pos_tagged_text  \n",
       "0  september new home sale rise——-back level sept...  "
      ]
     },
     "execution_count": 74,
     "metadata": {},
     "output_type": "execute_result"
    }
   ],
   "source": [
    "test.head(1)"
   ]
  },
  {
   "cell_type": "code",
   "execution_count": 75,
   "id": "84bae520",
   "metadata": {},
   "outputs": [],
   "source": [
    "from sklearn.pipeline import Pipeline\n",
    "trigram_vectorizer = CountVectorizer(analyzer = \"word\", ngram_range=(1,3))\n",
    "tf_idf = TfidfTransformer(norm=\"l2\")\n",
    "classifier = LogisticRegression(C=1000, class_weight=None, dual=False, fit_intercept=True,\n",
    "          intercept_scaling=1, max_iter=100, multi_class='multinomial',\n",
    "          n_jobs=None, penalty='l2', random_state=None, solver='saga',\n",
    "          tol=0.0001, verbose=0, warm_start=False)\n",
    "\n",
    "pipeline = Pipeline([\n",
    "     ('trigram_vectorizer', trigram_vectorizer),\n",
    "     ('tfidf', tf_idf),\n",
    "     ('clf', classifier),\n",
    " ])"
   ]
  },
  {
   "cell_type": "code",
   "execution_count": 76,
   "id": "7446b2b6",
   "metadata": {},
   "outputs": [
    {
     "data": {
      "text/plain": [
       "Pipeline(steps=[('trigram_vectorizer', CountVectorizer(ngram_range=(1, 3))),\n",
       "                ('tfidf', TfidfTransformer()),\n",
       "                ('clf',\n",
       "                 LogisticRegression(C=1000, multi_class='multinomial',\n",
       "                                    solver='saga'))])"
      ]
     },
     "execution_count": 76,
     "metadata": {},
     "output_type": "execute_result"
    }
   ],
   "source": [
    "pipeline.fit(train.clean_and_pos_tagged_text, encoder.fit_transform(train.label.values))"
   ]
  },
  {
   "cell_type": "code",
   "execution_count": 77,
   "id": "33b3c756",
   "metadata": {},
   "outputs": [],
   "source": [
    "import pickle\n",
    "pickle.dump( pipeline, open( \"pipeline.pkl\", \"wb\" ) )"
   ]
  },
  {
   "cell_type": "code",
   "execution_count": 78,
   "id": "6f57154a",
   "metadata": {},
   "outputs": [
    {
     "name": "stdout",
     "output_type": "stream",
     "text": [
      "\u001b[34mPredicting on test\u001b[0m\n"
     ]
    }
   ],
   "source": [
    "print(colored(\"Predicting on test\", 'blue'))\n",
    "test_predictions = test_predictions = pipeline.predict(test.clean_and_pos_tagged_text)\n"
   ]
  },
  {
   "cell_type": "code",
   "execution_count": 79,
   "id": "2430807d",
   "metadata": {},
   "outputs": [
    {
     "data": {
      "text/plain": [
       "array([0, 0, 1, ..., 1, 1, 1])"
      ]
     },
     "execution_count": 79,
     "metadata": {},
     "output_type": "execute_result"
    }
   ],
   "source": [
    "test_predictions"
   ]
  },
  {
   "cell_type": "code",
   "execution_count": 80,
   "id": "9b3540ff",
   "metadata": {},
   "outputs": [],
   "source": [
    "test_predictions_decoded = encoder.inverse_transform( test_predictions )"
   ]
  },
  {
   "cell_type": "code",
   "execution_count": 81,
   "id": "1d584187",
   "metadata": {},
   "outputs": [],
   "source": [
    "predictions = test\n",
    "predictions[\"label\"] = test_predictions_decoded"
   ]
  },
  {
   "cell_type": "code",
   "execution_count": 82,
   "id": "9b763759",
   "metadata": {},
   "outputs": [
    {
     "data": {
      "text/plain": [
       "(2321, 8)"
      ]
     },
     "execution_count": 82,
     "metadata": {},
     "output_type": "execute_result"
    }
   ],
   "source": [
    "predictions.shape"
   ]
  },
  {
   "cell_type": "code",
   "execution_count": 83,
   "id": "2502b7ee",
   "metadata": {},
   "outputs": [
    {
     "data": {
      "text/html": [
       "<div>\n",
       "<style scoped>\n",
       "    .dataframe tbody tr th:only-of-type {\n",
       "        vertical-align: middle;\n",
       "    }\n",
       "\n",
       "    .dataframe tbody tr th {\n",
       "        vertical-align: top;\n",
       "    }\n",
       "\n",
       "    .dataframe thead th {\n",
       "        text-align: right;\n",
       "    }\n",
       "</style>\n",
       "<table border=\"1\" class=\"dataframe\">\n",
       "  <thead>\n",
       "    <tr style=\"text-align: right;\">\n",
       "      <th></th>\n",
       "      <th>ID</th>\n",
       "      <th>title</th>\n",
       "      <th>text</th>\n",
       "      <th>title_and_text</th>\n",
       "      <th>preprocessed_text</th>\n",
       "      <th>pos_tagged_text</th>\n",
       "      <th>clean_and_pos_tagged_text</th>\n",
       "      <th>label</th>\n",
       "    </tr>\n",
       "  </thead>\n",
       "  <tbody>\n",
       "    <tr>\n",
       "      <th>0</th>\n",
       "      <td>10498</td>\n",
       "      <td>September New Homes Sales Rise——-Back To 1992 ...</td>\n",
       "      <td>September New Homes Sales Rise Back To 1992 Le...</td>\n",
       "      <td>September New Homes Sales Rise——-Back To 1992 ...</td>\n",
       "      <td>september new home sale rise——-back level sept...</td>\n",
       "      <td>VB-september JJ-new NN-home NN-sale JJ-rise——-...</td>\n",
       "      <td>september new home sale rise——-back level sept...</td>\n",
       "      <td>FAKE</td>\n",
       "    </tr>\n",
       "    <tr>\n",
       "      <th>1</th>\n",
       "      <td>2439</td>\n",
       "      <td>Why The Obamacare Doomsday Cult Can't Admit It...</td>\n",
       "      <td>But when Congress debated and passed the Patie...</td>\n",
       "      <td>Why The Obamacare Doomsday Cult Can't Admit It...</td>\n",
       "      <td>obamacare doomsday cult can't admit wrong cong...</td>\n",
       "      <td>NN-obamacare NN-doomsday NN-cult MD-ca RB-n't ...</td>\n",
       "      <td>obamacare doomsday cult can't admit wrong cong...</td>\n",
       "      <td>FAKE</td>\n",
       "    </tr>\n",
       "    <tr>\n",
       "      <th>2</th>\n",
       "      <td>864</td>\n",
       "      <td>Sanders, Cruz resist pressure after NY losses,...</td>\n",
       "      <td>The Bernie Sanders and Ted Cruz campaigns vowe...</td>\n",
       "      <td>Sanders, Cruz resist pressure after NY losses,...</td>\n",
       "      <td>sander cruz resist pressure ny loss vow fight ...</td>\n",
       "      <td>NN-sander NNS-cruz VBP-resist NN-pressure JJ-n...</td>\n",
       "      <td>sander cruz resist pressure ny loss vow fight ...</td>\n",
       "      <td>REAL</td>\n",
       "    </tr>\n",
       "    <tr>\n",
       "      <th>3</th>\n",
       "      <td>4128</td>\n",
       "      <td>Surviving escaped prisoner likely fatigued and...</td>\n",
       "      <td>Police searching for the second of two escaped...</td>\n",
       "      <td>Surviving escaped prisoner likely fatigued and...</td>\n",
       "      <td>survive escape prisoner likely fatigue prone m...</td>\n",
       "      <td>JJ-survive NN-escape NN-prisoner JJ-likely NN-...</td>\n",
       "      <td>survive escape prisoner likely fatigue prone m...</td>\n",
       "      <td>REAL</td>\n",
       "    </tr>\n",
       "    <tr>\n",
       "      <th>4</th>\n",
       "      <td>662</td>\n",
       "      <td>Clinton and Sanders neck and neck in Californi...</td>\n",
       "      <td>No matter who wins California's 475 delegates ...</td>\n",
       "      <td>Clinton and Sanders neck and neck in Californi...</td>\n",
       "      <td>clinton sander neck neck california primary ma...</td>\n",
       "      <td>NN-clinton NN-sander NN-neck NN-neck NN-califo...</td>\n",
       "      <td>clinton sander neck neck california primary ma...</td>\n",
       "      <td>REAL</td>\n",
       "    </tr>\n",
       "  </tbody>\n",
       "</table>\n",
       "</div>"
      ],
      "text/plain": [
       "      ID                                              title  \\\n",
       "0  10498  September New Homes Sales Rise——-Back To 1992 ...   \n",
       "1   2439  Why The Obamacare Doomsday Cult Can't Admit It...   \n",
       "2    864  Sanders, Cruz resist pressure after NY losses,...   \n",
       "3   4128  Surviving escaped prisoner likely fatigued and...   \n",
       "4    662  Clinton and Sanders neck and neck in Californi...   \n",
       "\n",
       "                                                text  \\\n",
       "0  September New Homes Sales Rise Back To 1992 Le...   \n",
       "1  But when Congress debated and passed the Patie...   \n",
       "2  The Bernie Sanders and Ted Cruz campaigns vowe...   \n",
       "3  Police searching for the second of two escaped...   \n",
       "4  No matter who wins California's 475 delegates ...   \n",
       "\n",
       "                                      title_and_text  \\\n",
       "0  September New Homes Sales Rise——-Back To 1992 ...   \n",
       "1  Why The Obamacare Doomsday Cult Can't Admit It...   \n",
       "2  Sanders, Cruz resist pressure after NY losses,...   \n",
       "3  Surviving escaped prisoner likely fatigued and...   \n",
       "4  Clinton and Sanders neck and neck in Californi...   \n",
       "\n",
       "                                   preprocessed_text  \\\n",
       "0  september new home sale rise——-back level sept...   \n",
       "1  obamacare doomsday cult can't admit wrong cong...   \n",
       "2  sander cruz resist pressure ny loss vow fight ...   \n",
       "3  survive escape prisoner likely fatigue prone m...   \n",
       "4  clinton sander neck neck california primary ma...   \n",
       "\n",
       "                                     pos_tagged_text  \\\n",
       "0  VB-september JJ-new NN-home NN-sale JJ-rise——-...   \n",
       "1  NN-obamacare NN-doomsday NN-cult MD-ca RB-n't ...   \n",
       "2  NN-sander NNS-cruz VBP-resist NN-pressure JJ-n...   \n",
       "3  JJ-survive NN-escape NN-prisoner JJ-likely NN-...   \n",
       "4  NN-clinton NN-sander NN-neck NN-neck NN-califo...   \n",
       "\n",
       "                           clean_and_pos_tagged_text label  \n",
       "0  september new home sale rise——-back level sept...  FAKE  \n",
       "1  obamacare doomsday cult can't admit wrong cong...  FAKE  \n",
       "2  sander cruz resist pressure ny loss vow fight ...  REAL  \n",
       "3  survive escape prisoner likely fatigue prone m...  REAL  \n",
       "4  clinton sander neck neck california primary ma...  REAL  "
      ]
     },
     "execution_count": 83,
     "metadata": {},
     "output_type": "execute_result"
    }
   ],
   "source": [
    "predictions.head()"
   ]
  },
  {
   "cell_type": "code",
   "execution_count": 84,
   "id": "1f337e4b",
   "metadata": {},
   "outputs": [
    {
     "data": {
      "text/plain": [
       "count     2321\n",
       "unique       2\n",
       "top       REAL\n",
       "freq      1340\n",
       "Name: label, dtype: object"
      ]
     },
     "execution_count": 84,
     "metadata": {},
     "output_type": "execute_result"
    }
   ],
   "source": [
    "predictions.label.describe()"
   ]
  },
  {
   "cell_type": "code",
   "execution_count": 85,
   "id": "f34c7a6d",
   "metadata": {},
   "outputs": [
    {
     "data": {
      "image/png": "[encoded data removed]",
      "text/plain": [
       "<Figure size 432x288 with 1 Axes>"
      ]
     },
     "metadata": {
      "needs_background": "light"
     },
     "output_type": "display_data"
    }
   ],
   "source": [
    "import collections\n",
    "ax = sns.countplot(predictions.label,\n",
    "                order=[x for x, count in sorted(collections.Counter(predictions.label).items(),\n",
    "                key=lambda x: -x[1])])\n",
    "\n",
    "\n",
    "for p in ax.patches:\n",
    "    height = p.get_height()\n",
    "    ax.text(p.get_x()+p.get_width()/2.,\n",
    "            height + 3,\n",
    "            '{:1.2f}%'.format(height/len(predictions)*100),\n",
    "            ha=\"center\") \n",
    "ax.set_title(\"Test dataset target\")\n",
    "show()"
   ]
  },
  {
   "cell_type": "code",
   "execution_count": 86,
   "id": "782d821a",
   "metadata": {},
   "outputs": [
    {
     "data": {
      "text/html": [
       "<div>\n",
       "<style scoped>\n",
       "    .dataframe tbody tr th:only-of-type {\n",
       "        vertical-align: middle;\n",
       "    }\n",
       "\n",
       "    .dataframe tbody tr th {\n",
       "        vertical-align: top;\n",
       "    }\n",
       "\n",
       "    .dataframe thead th {\n",
       "        text-align: right;\n",
       "    }\n",
       "</style>\n",
       "<table border=\"1\" class=\"dataframe\">\n",
       "  <thead>\n",
       "    <tr style=\"text-align: right;\">\n",
       "      <th></th>\n",
       "      <th>ID</th>\n",
       "      <th>label</th>\n",
       "    </tr>\n",
       "  </thead>\n",
       "  <tbody>\n",
       "    <tr>\n",
       "      <th>0</th>\n",
       "      <td>10498</td>\n",
       "      <td>FAKE</td>\n",
       "    </tr>\n",
       "    <tr>\n",
       "      <th>1</th>\n",
       "      <td>2439</td>\n",
       "      <td>FAKE</td>\n",
       "    </tr>\n",
       "    <tr>\n",
       "      <th>2</th>\n",
       "      <td>864</td>\n",
       "      <td>REAL</td>\n",
       "    </tr>\n",
       "    <tr>\n",
       "      <th>3</th>\n",
       "      <td>4128</td>\n",
       "      <td>REAL</td>\n",
       "    </tr>\n",
       "    <tr>\n",
       "      <th>4</th>\n",
       "      <td>662</td>\n",
       "      <td>REAL</td>\n",
       "    </tr>\n",
       "  </tbody>\n",
       "</table>\n",
       "</div>"
      ],
      "text/plain": [
       "      ID label\n",
       "0  10498  FAKE\n",
       "1   2439  FAKE\n",
       "2    864  REAL\n",
       "3   4128  REAL\n",
       "4    662  REAL"
      ]
     },
     "execution_count": 86,
     "metadata": {},
     "output_type": "execute_result"
    }
   ],
   "source": [
    "predictions.drop(columns=[\"title\",\"text\",\"title_and_text\",\"preprocessed_text\",\"pos_tagged_text\",\"clean_and_pos_tagged_text\"]).head()"
   ]
  },
  {
   "cell_type": "code",
   "execution_count": 87,
   "id": "32f24738",
   "metadata": {},
   "outputs": [],
   "source": [
    "predictions.to_csv(\"TEST_PREDICTIONS.csv\", index=False)"
   ]
  },
  {
   "cell_type": "code",
   "execution_count": null,
   "id": "4e7344f3",
   "metadata": {},
   "outputs": [],
   "source": []
  }
 ],
 "metadata": {
  "kernelspec": {
   "display_name": "Python 3 (ipykernel)",
   "language": "python",
   "name": "python3"
  },
  "language_info": {
   "codemirror_mode": {
    "name": "ipython",
    "version": 3
   },
   "file_extension": ".py",
   "mimetype": "text/x-python",
   "name": "python",
   "nbconvert_exporter": "python",
   "pygments_lexer": "ipython3",
   "version": "3.9.7"
  }
 },
 "nbformat": 4,
 "nbformat_minor": 5
}
